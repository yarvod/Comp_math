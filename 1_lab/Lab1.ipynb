{
 "cells": [
  {
   "cell_type": "markdown",
   "metadata": {},
   "source": [
    "## Численные начальные данные"
   ]
  },
  {
   "cell_type": "code",
   "execution_count": 3,
   "metadata": {},
   "outputs": [],
   "source": [
    "import numpy as np\n",
    "import math as mh\n",
    "import matplotlib.pyplot as plt"
   ]
  },
  {
   "cell_type": "code",
   "execution_count": 219,
   "metadata": {},
   "outputs": [],
   "source": [
    "gamma_0 = 5/3\n",
    "rho_0 = 2.71*10**(-3)\n",
    "P_0 = 5*10**5\n",
    "U_0 = 0\n",
    "gamma_3 = 7/5\n",
    "rho_3 = 2.219*10**(-4)\n",
    "U_3 = 1.587*10**5\n",
    "P_3 = 10**6\n"
   ]
  },
  {
   "cell_type": "markdown",
   "metadata": {},
   "source": [
    "## Запишем формулы коэффициентов\n"
   ]
  },
  {
   "cell_type": "code",
   "execution_count": 220,
   "metadata": {},
   "outputs": [],
   "source": [
    "alpha_3 = (gamma_3 + 1)/(gamma_3 - 1)\n",
    "alpha_0 = (gamma_0 + 1)/(gamma_0 - 1)\n",
    "# Y = P_1 / P_0\n",
    "X = P_3 / P_0\n",
    "C_3 = np.sqrt(gamma_3 * P_3 / rho_3)\n",
    "C_0 = np.sqrt(gamma_0 * P_0 / rho_0)\n",
    "e_0 = (2 * C_0**2) / (gamma_0 * (gamma_0 - 1) * (U_3 - U_0)**2)\n",
    "e_3 = (2 * C_3**2) / (gamma_3 * (gamma_3 - 1) * (U_3 - U_0)**2)"
   ]
  },
  {
   "cell_type": "code",
   "execution_count": 221,
   "metadata": {},
   "outputs": [
    {
     "data": {
      "text/plain": [
       "10.988714503099754"
      ]
     },
     "execution_count": 221,
     "metadata": {},
     "output_type": "execute_result"
    }
   ],
   "source": [
    "a_0 = (alpha_0 * e_3 - alpha_3 * X * e_0)**2\n",
    "a_0"
   ]
  },
  {
   "cell_type": "code",
   "execution_count": 276,
   "metadata": {},
   "outputs": [
    {
     "data": {
      "text/plain": [
       "-454.9255413345035"
      ]
     },
     "execution_count": 276,
     "metadata": {},
     "output_type": "execute_result"
    }
   ],
   "source": [
    "a_1 = 2 *((alpha_0 * e_3 - alpha_3 * X * e_0)*(e_3*(1-2*alpha_0*X) - e_0*X*(X-2*alpha_3)) - alpha_0*alpha_3*X*(alpha_0 * e_3 + alpha_3 * X * e_0))\n",
    "\n",
    "a_1"
   ]
  },
  {
   "cell_type": "code",
   "execution_count": 223,
   "metadata": {},
   "outputs": [
    {
     "data": {
      "text/plain": [
       "3658.4211451613614"
      ]
     },
     "execution_count": 223,
     "metadata": {},
     "output_type": "execute_result"
    }
   ],
   "source": [
    "a_2 = e_3**2 * (6*alpha_0**2 * X**2 - 8*alpha_0*X + 1)-2*e_0*e_3*X*(alpha_0*alpha_3*(X**2+4*X+1)-2*(X+1)*(alpha_3+alpha_0*X)+X) +e_0**2*X**2*(6*alpha_3**2-8*alpha_3*X+X**2)+alpha_0**2*alpha_3**2*X**2 -2*alpha_0*X*e_3*(alpha_0*X-2*alpha_0*alpha_3*X+2*alpha_3) -2*alpha_3*X**2*e_0*(alpha_3+2*alpha_0*X-2*alpha_0*alpha_3)\n",
    "a_2"
   ]
  },
  {
   "cell_type": "code",
   "execution_count": 224,
   "metadata": {},
   "outputs": [
    {
     "data": {
      "text/plain": [
       "2141.0135627426307"
      ]
     },
     "execution_count": 224,
     "metadata": {},
     "output_type": "execute_result"
    }
   ],
   "source": [
    "a_3 = -2*X*(2*e_3**2*(alpha_0**2*X**2-3*alpha_0*X+1)+e_0*e_3*((alpha_3+\n",
    "            alpha_0*X)*(X**2+4*X+1)-2*alpha_0*alpha_3*X*(X+1)-2*X*(X+1))+\n",
    "           2*e_0**2*X*(X**2-3*alpha_3*X+alpha_3**2)-alpha_0*alpha_3*X*(alpha_0*X+alpha_3)+\n",
    "           e_3*(alpha_0**2*alpha_3*X**2-2*X*(2*alpha_0*alpha_3+alpha_0**2*X)+(2*alpha_0*X+alpha_3))+\n",
    "           e_0*X*(alpha_0*alpha_3**2-2*alpha_3*(alpha_3+2*alpha_0*X)+2*alpha_3*X+alpha_0*X**2))\n",
    "a_3"
   ]
  },
  {
   "cell_type": "code",
   "execution_count": 225,
   "metadata": {},
   "outputs": [
    {
     "data": {
      "text/plain": [
       "343.5092754084322"
      ]
     },
     "execution_count": 225,
     "metadata": {},
     "output_type": "execute_result"
    }
   ],
   "source": [
    "a_4 = X**2*(e_3**2*(alpha_0**2*X**2-8*alpha_0*X+6)-\n",
    "           2*e_0*e_3*(alpha_0*alpha_3*X-2*(X+1)*(alpha_3+alpha_0*X)+X**2+4*X+1)+\n",
    "           e_0**2*(alpha_3**2-8*alpha_3*X+6*X**2)+(alpha_3**2+4*alpha_0*alpha_3*X+alpha_0**2*X**2)-\n",
    "           2*e_3*((alpha_0**2*X+2*alpha_0*alpha_3)*X-2*(2*alpha_0*X+alpha_3)+1)-\n",
    "           2*e_0*(alpha_3*(2*alpha_0*X+alpha_3)-2*X*(2*alpha_3+alpha_0*X)+X**2))\n",
    "a_4"
   ]
  },
  {
   "cell_type": "code",
   "execution_count": 226,
   "metadata": {},
   "outputs": [
    {
     "data": {
      "text/plain": [
       "6.421148304155288"
      ]
     },
     "execution_count": 226,
     "metadata": {},
     "output_type": "execute_result"
    }
   ],
   "source": [
    "a_5 = 2*X**3*(e_3**2*(alpha_0*X-2)-e_0*e_3*(alpha_0*X-2+alpha_3-2*X)+\n",
    "             e_0**2*(alpha_3-2*X)+(alpha_3+alpha_0*X)-\n",
    "             e_3*(2*alpha_0*X+alpha_3-2)-e_0*(2*alpha_3+alpha_0*X-2*X))\n",
    "a_5"
   ]
  },
  {
   "cell_type": "code",
   "execution_count": 227,
   "metadata": {},
   "outputs": [
    {
     "data": {
      "text/plain": [
       "-1.147180163387823"
      ]
     },
     "execution_count": 227,
     "metadata": {},
     "output_type": "execute_result"
    }
   ],
   "source": [
    "a_6 = X**4*((e_3-e_0)**2+1-2*(e_3+e_0))\n",
    "a_6"
   ]
  },
  {
   "cell_type": "code",
   "execution_count": 228,
   "metadata": {},
   "outputs": [
    {
     "data": {
      "text/plain": [
       "array([ 1.09887145e+01, -4.54925541e+02,  3.65842115e+03,  2.14101356e+03,\n",
       "        3.43509275e+02,  6.42114830e+00, -1.14718016e+00])"
      ]
     },
     "execution_count": 228,
     "metadata": {},
     "output_type": "execute_result"
    }
   ],
   "source": [
    "koef = np.array((a_0,a_1,a_2,a_3,a_4,a_5,a_6))\n",
    "koef \n"
   ]
  },
  {
   "cell_type": "markdown",
   "metadata": {},
   "source": [
    "## Оценим кольцо корней по ф-ле: $\\frac{|a_n|}{|a_n|+B} \\leq |z| \\leq 1 + \\frac{A}{|a_0|}$,\n",
    "где $A = max\\left\\{ |a_1|, |a_2|, ..., |a_n| \\right\\}$ и $B = max\\left\\{ |a_0|, |a_1|, ..., |a_{n-1}| \\right\\}$"
   ]
  },
  {
   "cell_type": "code",
   "execution_count": 229,
   "metadata": {},
   "outputs": [
    {
     "data": {
      "text/plain": [
       "3658.4211451613614"
      ]
     },
     "execution_count": 229,
     "metadata": {},
     "output_type": "execute_result"
    }
   ],
   "source": [
    "A = max(koef[1:])\n",
    "A"
   ]
  },
  {
   "cell_type": "code",
   "execution_count": 230,
   "metadata": {},
   "outputs": [
    {
     "data": {
      "text/plain": [
       "3658.4211451613614"
      ]
     },
     "execution_count": 230,
     "metadata": {},
     "output_type": "execute_result"
    }
   ],
   "source": [
    "B = max(koef[:5:])\n",
    "B"
   ]
  },
  {
   "cell_type": "code",
   "execution_count": 231,
   "metadata": {},
   "outputs": [
    {
     "data": {
      "text/plain": [
       "0.0003134741754783393"
      ]
     },
     "execution_count": 231,
     "metadata": {},
     "output_type": "execute_result"
    }
   ],
   "source": [
    "left = (abs(koef[6]))/(abs(koef[6])+B)\n",
    "left"
   ]
  },
  {
   "cell_type": "code",
   "execution_count": 232,
   "metadata": {},
   "outputs": [
    {
     "data": {
      "text/plain": [
       "3190.055443878498"
      ]
     },
     "execution_count": 232,
     "metadata": {},
     "output_type": "execute_result"
    }
   ],
   "source": [
    "for i in range(len(koef)):\n",
    "    if koef[i] != 0:\n",
    "        right = 1 + A/(abs(koef[i]))\n",
    "right"
   ]
  },
  {
   "cell_type": "markdown",
   "metadata": {},
   "source": [
    "## Корни лежат в кольце $4.7 \\cdot 10^{-5} \\leq |z| \\leq 1012.9$"
   ]
  },
  {
   "cell_type": "code",
   "execution_count": 233,
   "metadata": {},
   "outputs": [],
   "source": [
    "def func(Y, a_0, a_1, a_2, a_3, a_4, a_5, a_6):\n",
    "    return a_0*Y**6+a_1*Y**5+a_2*Y**4+a_3*Y**3+a_4*Y**2+a_5*Y+a_6\n",
    "    "
   ]
  },
  {
   "cell_type": "code",
   "execution_count": 234,
   "metadata": {},
   "outputs": [],
   "source": [
    "def sign(x):\n",
    "    if x >= 0:\n",
    "        return 1\n",
    "    elif x < 0:\n",
    "        return 0\n"
   ]
  },
  {
   "cell_type": "code",
   "execution_count": 235,
   "metadata": {},
   "outputs": [
    {
     "data": {
      "text/plain": [
       "3190.0551304043224"
      ]
     },
     "execution_count": 235,
     "metadata": {},
     "output_type": "execute_result"
    }
   ],
   "source": [
    "length = right - left\n",
    "length"
   ]
  },
  {
   "cell_type": "code",
   "execution_count": 239,
   "metadata": {},
   "outputs": [
    {
     "data": {
      "text/plain": [
       "0.00031900551304043227"
      ]
     },
     "execution_count": 239,
     "metadata": {},
     "output_type": "execute_result"
    }
   ],
   "source": [
    "N = 10000000\n",
    "T = length / N\n",
    "T\n"
   ]
  },
  {
   "cell_type": "markdown",
   "metadata": {},
   "source": [
    "### Положительный корень"
   ]
  },
  {
   "cell_type": "code",
   "execution_count": 240,
   "metadata": {},
   "outputs": [
    {
     "data": {
      "text/plain": [
       "[137, 37052, 94468]"
      ]
     },
     "execution_count": 240,
     "metadata": {},
     "output_type": "execute_result"
    }
   ],
   "source": [
    "il = []\n",
    "for i in range(N-1):\n",
    "    if sign(func(left + i*T, *koef)) != sign(func(left + (i+1)*T, *koef)):\n",
    "        il.append(i)\n",
    "    if len(il) == 3:\n",
    "            break\n",
    "il"
   ]
  },
  {
   "cell_type": "code",
   "execution_count": 241,
   "metadata": {},
   "outputs": [
    {
     "data": {
      "text/plain": [
       "[0.044176732218537774, 11.820265246106095, 30.136285782835554]"
      ]
     },
     "execution_count": 241,
     "metadata": {},
     "output_type": "execute_result"
    }
   ],
   "source": [
    "y = []\n",
    "for i in range(len(il)):\n",
    "    y.append((2*left+(2*il[i]+1)*T)/2)\n",
    "y"
   ]
  },
  {
   "cell_type": "code",
   "execution_count": 242,
   "metadata": {},
   "outputs": [
    {
     "name": "stdout",
     "output_type": "stream",
     "text": [
      "Значение функции слева и справа F(Y) = -0.002731  F(Y) = 0.013398\n",
      "Y_1 = 0.044177 локализовано в  [0.044017, 0.044336] \n",
      "\n",
      "\n",
      "Значение функции слева и справа F(Y) = 701.938610  F(Y) = -611.336454\n",
      "Y_2 = 11.820265 локализовано в  [11.820106, 11.820425] \n",
      "\n",
      "\n",
      "Значение функции слева и справа F(Y) = -42352.856444  F(Y) = 11589.119194\n",
      "Y_3 = 30.136286 локализовано в  [30.136126, 30.136445] \n",
      "\n",
      "\n"
     ]
    }
   ],
   "source": [
    "#positive\n",
    "for i in range(len(il)):\n",
    "    print('Значение функции слева и справа F(Y) = %f  F(Y) = %f'%(func(left + il[i]*T, *koef), func(left + (il[i]+1)*T, *koef)))\n",
    "    print('Y_%d = %f локализовано в  [%f, %f] \\n\\n' %(i+1,(2*left+(2*il[i]+1)*T)/2, left + il[i]*T, left + (il[i]+1)*T) )\n",
    "\n"
   ]
  },
  {
   "cell_type": "markdown",
   "metadata": {},
   "source": [
    "### Отрицательный корень"
   ]
  },
  {
   "cell_type": "code",
   "execution_count": 243,
   "metadata": {},
   "outputs": [
    {
     "data": {
      "text/plain": [
       "[344]"
      ]
     },
     "execution_count": 243,
     "metadata": {},
     "output_type": "execute_result"
    }
   ],
   "source": [
    "il_n = []\n",
    "for i in range(N-1):\n",
    "    if sign(func(-left - i*T, *koef)) != sign(func(-left - (i+1)*T, *koef)):\n",
    "        il_n.append(i)\n",
    "    if len(il_n) == 1:\n",
    "            break\n",
    "il_n"
   ]
  },
  {
   "cell_type": "code",
   "execution_count": 244,
   "metadata": {},
   "outputs": [
    {
     "name": "stdout",
     "output_type": "stream",
     "text": [
      "Значение функции слева и справа F(Y) = -0.003180  F(Y) = 0.000394\n",
      "Y_1 = -0.110211 локализовано в  [-0.110051, -0.110370] \n",
      "\n",
      "\n"
     ]
    }
   ],
   "source": [
    "#negative\n",
    "for i in range(len(il_n)):\n",
    "    print('Значение функции слева и справа F(Y) = %f  F(Y) = %f'%(func(-left - il_n[i]*T, *koef), func(-left - (il_n[i]+1)*T, *koef)))\n",
    "    print('Y_%d = %f локализовано в  [%f, %f] \\n\\n' %(i+1,-(2*left+(2*il_n[i]+1)*T)/2, -left - il_n[i]*T, -left - (il_n[i]+1)*T) )\n"
   ]
  },
  {
   "cell_type": "markdown",
   "metadata": {},
   "source": [
    "## График "
   ]
  },
  {
   "cell_type": "code",
   "execution_count": 185,
   "metadata": {},
   "outputs": [
    {
     "data": {
      "image/png": "[encoded data removed]",
      "text/plain": [
       "<Figure size 720x432 with 1 Axes>"
      ]
     },
     "metadata": {
      "needs_background": "light"
     },
     "output_type": "display_data"
    }
   ],
   "source": [
    "fig, ax = plt.subplots(figsize=(10, 6))\n",
    "dots = np.arange(-0.3, 0.2, 0.0001)\n",
    "ax.scatter(dots, func(dots, *koef), color = 'red', s = 0.5)\n",
    "ax.plot([0,0], [-1,1], color = 'royalblue')\n",
    "ax.plot([-1,1], [0,0], color = 'royalblue')\n",
    "ax.grid(which='major',color = 'k')\n",
    "\n",
    "ax.minorticks_on()\n",
    "\n",
    "ax.grid(which='minor',\n",
    "color = 'gray',\n",
    "linestyle = ':', linewidth = 0.5)\n",
    "ax.grid(which='major', linewidth = 0.5)\n",
    "\n",
    "plt.xlim (-0.2, 0.15)\n",
    "plt.ylim (-0.02, 0.1)\n",
    "plt.savefig('plot.png', dpi=400, quality=100)\n",
    "plt.show()"
   ]
  },
  {
   "cell_type": "code",
   "execution_count": 186,
   "metadata": {},
   "outputs": [
    {
     "data": {
      "image/png": "[encoded data removed]",
      "text/plain": [
       "<Figure size 720x432 with 1 Axes>"
      ]
     },
     "metadata": {
      "needs_background": "light"
     },
     "output_type": "display_data"
    }
   ],
   "source": [
    "fig, ax = plt.subplots(figsize=(10, 6))\n",
    "dots = np.arange(3.686, 3.7, 0.00001)\n",
    "ax.scatter(dots, func(dots, *koef), color = 'red', s = 3)\n",
    "ax.plot([0,0], [-100,100], color = 'royalblue')\n",
    "ax.plot([-100,100], [0,0], color = 'royalblue')\n",
    "ax.grid(which='major',color = 'k')\n",
    "\n",
    "ax.minorticks_on()\n",
    "\n",
    "ax.grid(which='minor',\n",
    "color = 'gray',\n",
    "linestyle = ':', linewidth = 0.5)\n",
    "ax.grid(which='major', linewidth = 0.5)\n",
    "\n",
    "plt.xlim (3.685, 3.7)\n",
    "plt.ylim (-100, 100)\n",
    "plt.savefig('plot-2.png', dpi=400, quality=100)\n",
    "plt.show()"
   ]
  },
  {
   "cell_type": "code",
   "execution_count": 187,
   "metadata": {},
   "outputs": [],
   "source": [
    "# fig, ax = plt.subplots(figsize=(10, 6))\n",
    "# dots = np.arange(290.13, 290.14, 0.000000000001)\n",
    "# ax.scatter(dots, func(dots, *koef), color = 'red', s = 3)\n",
    "# ax.plot([0,0], [-100,100], color = 'royalblue')\n",
    "# ax.plot([-100,100], [0,0], color = 'royalblue')\n",
    "# ax.grid(which='major',color = 'k')\n",
    "\n",
    "# ax.minorticks_on()\n",
    "\n",
    "# ax.grid(which='minor',\n",
    "# color = 'gray',\n",
    "# linestyle = ':', linewidth = 0.5)\n",
    "# ax.grid(which='major', linewidth = 0.5)\n",
    "\n",
    "# plt.xlim (290.13, 290.14)\n",
    "# plt.ylim (-1, 100)\n",
    "# plt.savefig('plot-2.png', dpi=400, quality=100)\n",
    "# plt.show()"
   ]
  },
  {
   "cell_type": "code",
   "execution_count": 245,
   "metadata": {},
   "outputs": [
    {
     "data": {
      "text/plain": [
       "[22088.36610926889, 5910132.623053047, 15068142.891417777]"
      ]
     },
     "execution_count": 245,
     "metadata": {},
     "output_type": "execute_result"
    }
   ],
   "source": [
    "P_1 = []\n",
    "for i in range(len(y)):\n",
    "    P_1.append(P_0 * y[i]) \n",
    "P_1\n",
    "# print(r'$P_1$ = %f (дин/см^2)' %(P_1) )"
   ]
  },
  {
   "cell_type": "code",
   "execution_count": 246,
   "metadata": {},
   "outputs": [
    {
     "data": {
      "text/plain": [
       "[0.0007885104901188652, 0.008270510843678469, 0.009649185033819946]"
      ]
     },
     "execution_count": 246,
     "metadata": {},
     "output_type": "execute_result"
    }
   ],
   "source": [
    "rho_1 = []\n",
    "for i in range(len(P_1)):\n",
    "    rho_1.append(rho_0 * ((gamma_0 - 1)+(gamma_0+1)*P_1[i]/P_0)/((gamma_0+1)+(gamma_0-1)*P_1[i]/P_0)) \n",
    "rho_1\n",
    "\n",
    "# print('rho_1 = %f (г/см^3)'%(rho_1))"
   ]
  },
  {
   "cell_type": "code",
   "execution_count": 247,
   "metadata": {},
   "outputs": [],
   "source": [
    "# rho_2 = rho_1 #это не точно))\n",
    "P_2 = P_1"
   ]
  },
  {
   "cell_type": "code",
   "execution_count": 273,
   "metadata": {},
   "outputs": [
    {
     "data": {
      "text/plain": [
       "[8506.950088472271, 54491.42082650751, 86458.66673496696]"
      ]
     },
     "execution_count": 273,
     "metadata": {},
     "output_type": "execute_result"
    }
   ],
   "source": [
    "# D_0 = []\n",
    "# for i in range(len(P_1)):\n",
    "#     D_0.append(U_0 + np.sqrt((P_0 - P_1[i])/(rho_0**2/rho_1[i] - rho_0)))\n",
    "\n",
    "# D_0"
   ]
  },
  {
   "cell_type": "code",
   "execution_count": 275,
   "metadata": {},
   "outputs": [
    {
     "data": {
      "text/plain": [
       "[-8506.950088472271, 54491.4208265075, -86458.66673496694]"
      ]
     },
     "execution_count": 275,
     "metadata": {},
     "output_type": "execute_result"
    }
   ],
   "source": [
    "D_0 = []\n",
    "for i in range(len(P_1)):\n",
    "    D_0.append((rho_1[i]*U_1[i] - rho_0*U_0)/(rho_1[i]-rho_0))\n",
    "\n",
    "D_0"
   ]
  },
  {
   "cell_type": "code",
   "execution_count": 268,
   "metadata": {},
   "outputs": [
    {
     "data": {
      "text/plain": [
       "[20730.244633293027, 36636.20568550957, -62176.51378313326]"
      ]
     },
     "execution_count": 268,
     "metadata": {},
     "output_type": "execute_result"
    }
   ],
   "source": [
    "U_1 = []\n",
    "for i in range(len(P_1)):\n",
    "     U_1.append(U_0  + (-1)**k_u1[i] * (P_1[i]-P_0)/(rho_0*C_0*np.sqrt(((gamma_0-1)+(gamma_0+1)*P_1[i]/P_0)/(2*gamma_0))))\n",
    "U_1"
   ]
  },
  {
   "cell_type": "code",
   "execution_count": 269,
   "metadata": {},
   "outputs": [
    {
     "data": {
      "text/plain": [
       "[20762.907132696768, 36636.307828075835, -62176.2304309537]"
      ]
     },
     "execution_count": 269,
     "metadata": {},
     "output_type": "execute_result"
    }
   ],
   "source": [
    "U_2 = []\n",
    "for i in range(len(P_1)):\n",
    "    U_2.append(U_3 + (-1)**k_u2[i] * (P_2[i]-P_3)/(rho_3*C_3*np.sqrt(((gamma_3-1)+(gamma_3+1)*P_2[i]/P_3)/(2*gamma_3))))\n",
    "# U_2[0] = -U_2[0]\n",
    "\n",
    "U_2"
   ]
  },
  {
   "cell_type": "code",
   "execution_count": 270,
   "metadata": {},
   "outputs": [],
   "source": [
    "sign_U_1 = ['-', '+', '-']\n",
    "k_u1 = [1,2,1]\n",
    "sign_U_2 = ['+', '-', '-']\n",
    "k_u2 = [2,1,1]"
   ]
  },
  {
   "cell_type": "code",
   "execution_count": 271,
   "metadata": {},
   "outputs": [
    {
     "data": {
      "text/plain": [
       "[190649.2922462902, -22579.801952811966, -128332.11212697875]"
      ]
     },
     "execution_count": 271,
     "metadata": {},
     "output_type": "execute_result"
    }
   ],
   "source": [
    "D_3 = []\n",
    "for i in range(len(P_1)):\n",
    "    D_3.append((U_3*U_2[i]-(U_3)**2-(P_3-P_2[i])/rho_3)/(U_2[i]-U_3))\n",
    "D_3"
   ]
  },
  {
   "cell_type": "code",
   "execution_count": 274,
   "metadata": {},
   "outputs": [
    {
     "data": {
      "text/plain": [
       "[4.173111308897069e-05, 0.000679308184920855, 0.0009627628571807473]"
      ]
     },
     "execution_count": 274,
     "metadata": {},
     "output_type": "execute_result"
    }
   ],
   "source": [
    "rho_2 = []\n",
    "for i in range(len(P_1)):\n",
    "    rho_2.append((U_3-D_3[i])*rho_3/(U_2[i]-D_3[i]))\n",
    "rho_2"
   ]
  },
  {
   "cell_type": "code",
   "execution_count": null,
   "metadata": {},
   "outputs": [],
   "source": []
  },
  {
   "cell_type": "code",
   "execution_count": null,
   "metadata": {},
   "outputs": [],
   "source": []
  },
  {
   "cell_type": "code",
   "execution_count": null,
   "metadata": {},
   "outputs": [],
   "source": []
  },
  {
   "cell_type": "code",
   "execution_count": null,
   "metadata": {},
   "outputs": [],
   "source": []
  },
  {
   "cell_type": "code",
   "execution_count": null,
   "metadata": {},
   "outputs": [],
   "source": []
  },
  {
   "cell_type": "code",
   "execution_count": null,
   "metadata": {},
   "outputs": [],
   "source": []
  },
  {
   "cell_type": "code",
   "execution_count": null,
   "metadata": {},
   "outputs": [],
   "source": []
  },
  {
   "cell_type": "code",
   "execution_count": null,
   "metadata": {},
   "outputs": [],
   "source": []
  },
  {
   "cell_type": "code",
   "execution_count": null,
   "metadata": {},
   "outputs": [],
   "source": []
  },
  {
   "cell_type": "code",
   "execution_count": null,
   "metadata": {},
   "outputs": [],
   "source": []
  },
  {
   "cell_type": "code",
   "execution_count": null,
   "metadata": {},
   "outputs": [],
   "source": []
  },
  {
   "cell_type": "code",
   "execution_count": null,
   "metadata": {},
   "outputs": [],
   "source": []
  },
  {
   "cell_type": "code",
   "execution_count": 34,
   "metadata": {},
   "outputs": [
    {
     "name": "stdout",
     "output_type": "stream",
     "text": [
      "[0, 36, 2864]\n"
     ]
    }
   ],
   "source": [
    "N = 10000\n",
    "T = length/N\n",
    "while 1:\n",
    "    il = []\n",
    "    for i in range(N-1):\n",
    "        if sign(func(left + i*T, *koef)) != sign(func(left + (i+1)*T, *koef)):\n",
    "            il.append(i)\n",
    "        if len(il) == 3:\n",
    "            break\n",
    "    if len(il) < 3:\n",
    "        N *=2\n",
    "    else:\n",
    "        break\n",
    "print(il)"
   ]
  }
 ],
 "metadata": {
  "kernelspec": {
   "display_name": "Python 3",
   "language": "python",
   "name": "python3"
  },
  "language_info": {
   "codemirror_mode": {
    "name": "ipython",
    "version": 3
   },
   "file_extension": ".py",
   "mimetype": "text/x-python",
   "name": "python",
   "nbconvert_exporter": "python",
   "pygments_lexer": "ipython3",
   "version": "3.8.2"
  }
 },
 "nbformat": 4,
 "nbformat_minor": 4
}
