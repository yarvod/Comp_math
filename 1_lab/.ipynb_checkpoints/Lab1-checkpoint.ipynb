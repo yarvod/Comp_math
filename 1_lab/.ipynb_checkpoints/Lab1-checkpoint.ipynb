{
 "cells": [
  {
   "cell_type": "markdown",
   "metadata": {},
   "source": [
    "## Численные начальные данные"
   ]
  },
  {
   "cell_type": "code",
   "execution_count": 3,
   "metadata": {},
   "outputs": [],
   "source": [
    "import numpy as np\n",
    "import math as mh\n",
    "import matplotlib.pyplot as plt"
   ]
  },
  {
   "cell_type": "code",
   "execution_count": 82,
   "metadata": {},
   "outputs": [],
   "source": [
    "gamma_0 = 7/5\n",
    "rho_0 = 7.9\n",
    "P_0 = 3.04 * 10**9\n",
    "U_0 = 0\n",
    "gamma_3 = 7/5\n",
    "rho_3 = 11.37\n",
    "U_3 = 5 * 10**4\n",
    "P_3 = 1.17928 * 10**9"
   ]
  },
  {
   "cell_type": "markdown",
   "metadata": {},
   "source": [
    "## Запишем формулы коэффициентов\n"
   ]
  },
  {
   "cell_type": "code",
   "execution_count": 5,
   "metadata": {},
   "outputs": [],
   "source": [
    "alpha_3 = (gamma_3 + 1)/(gamma_3 - 1)\n",
    "alpha_0 = (gamma_0 + 1)/(gamma_0 - 1)\n",
    "# Y = P_1 / P_0\n",
    "X = P_3 / P_0\n",
    "C_3 = np.sqrt(gamma_3 * P_3 / rho_3)\n",
    "C_0 = np.sqrt(gamma_0 * P_0 / rho_0)\n",
    "e_0 = (2 * C_0**2) / (gamma_0 * (gamma_0 - 1) * (U_3 - U_0)**2)\n",
    "e_3 = (2 * C_3**2) / (gamma_3 * (gamma_3 - 1) * (U_3 - U_0)**2)"
   ]
  },
  {
   "cell_type": "code",
   "execution_count": 6,
   "metadata": {},
   "outputs": [
    {
     "data": {
      "text/plain": [
       "0.2988685359237299"
      ]
     },
     "execution_count": 6,
     "metadata": {},
     "output_type": "execute_result"
    }
   ],
   "source": [
    "a_0 = (alpha_0 * e_3 - alpha_3 * X * e_0)**2\n",
    "a_0"
   ]
  },
  {
   "cell_type": "code",
   "execution_count": 7,
   "metadata": {},
   "outputs": [
    {
     "data": {
      "text/plain": [
       "-87.75613999999999"
      ]
     },
     "execution_count": 7,
     "metadata": {},
     "output_type": "execute_result"
    }
   ],
   "source": [
    "a_1 = 2 *(np.sqrt(a_0)*(e_3*(1-2*alpha_0*X) - e_0*X*(X-2*alpha_3)) - alpha_0*alpha_3*X*(np.sqrt(a_0)))\n",
    "a_1 = -8.775614 *10\n",
    "a_1"
   ]
  },
  {
   "cell_type": "code",
   "execution_count": 8,
   "metadata": {},
   "outputs": [
    {
     "data": {
      "text/plain": [
       "302.4296658753084"
      ]
     },
     "execution_count": 8,
     "metadata": {},
     "output_type": "execute_result"
    }
   ],
   "source": [
    "a_2 = e_3**2 * (6*alpha_0**2 * X**2 - 8*alpha_0*X + 1)-2*e_0*e_3*X*(alpha_0*alpha_3*(X**2+4*X+1)-2*(X+1)*(alpha_3+alpha_0*X)+X) +e_0**2*X**2*(6*alpha_3**2-8*alpha_3*X+X**2)+alpha_0**2*alpha_3**2*X**2 -2*alpha_0*X*e_3*(alpha_0*X-2*alpha_0*alpha_3*X+2*alpha_3) -2*alpha_3*X**2*e_0*(alpha_3+2*alpha_0*X-2*alpha_0*alpha_3)\n",
    "a_2"
   ]
  },
  {
   "cell_type": "code",
   "execution_count": 9,
   "metadata": {},
   "outputs": [
    {
     "data": {
      "text/plain": [
       "64.09767476496049"
      ]
     },
     "execution_count": 9,
     "metadata": {},
     "output_type": "execute_result"
    }
   ],
   "source": [
    "a_3 = -2*X*(2*e_3**2*(alpha_0**2*X**2-3*alpha_0*X+1)+e_0*e_3*((alpha_3+\n",
    "            alpha_0*X)*(X**2+4*X+1)-2*alpha_0*alpha_3*X*(X+1)-2*X*(X+1))+\n",
    "           2*e_0**2*X*(X**2-3*alpha_3*X+alpha_3**2)-alpha_0*alpha_3*X*(alpha_0*X+alpha_3)+\n",
    "           e_3*(alpha_0**2*alpha_3*X**2-2*X*(2*alpha_0*alpha_3+alpha_0**2*X)+(2*alpha_0*X+alpha_3))+\n",
    "           e_0*X*(alpha_0*alpha_3**2-2*alpha_3*(alpha_3+2*alpha_0*X)+2*alpha_3*X+alpha_0*X**2))\n",
    "a_3"
   ]
  },
  {
   "cell_type": "code",
   "execution_count": 10,
   "metadata": {},
   "outputs": [
    {
     "data": {
      "text/plain": [
       "3.449291380885679"
      ]
     },
     "execution_count": 10,
     "metadata": {},
     "output_type": "execute_result"
    }
   ],
   "source": [
    "a_4 = X**2*(e_3**2*(alpha_0**2*X**2-8*alpha_0*X+6)-\n",
    "           2*e_0*e_3*(alpha_0*alpha_3*X-2*(X+1)*(alpha_3+alpha_0*X)+X**2+4*X+1)+\n",
    "           e_0**2*(alpha_3**2-8*alpha_3*X+6*X**2)+(alpha_3**2+4*alpha_0*alpha_3*X+alpha_0**2*X**2)-\n",
    "           2*e_3*((alpha_0**2*X+2*alpha_0*alpha_3)*X-2*(2*alpha_0*X+alpha_3)+1)-\n",
    "           2*e_0*(alpha_3*(2*alpha_0*X+alpha_3)-2*X*(2*alpha_3+alpha_0*X)+X**2))\n",
    "a_4"
   ]
  },
  {
   "cell_type": "code",
   "execution_count": 11,
   "metadata": {},
   "outputs": [
    {
     "data": {
      "text/plain": [
       "-0.19560149065561766"
      ]
     },
     "execution_count": 11,
     "metadata": {},
     "output_type": "execute_result"
    }
   ],
   "source": [
    "a_5 = 2*X**3*(e_3**2*(alpha_0*X-2)-e_0*e_3*(alpha_0*X-2+alpha_3-2*X)+\n",
    "             e_0**2*(alpha_3-2*X)+(alpha_3+alpha_0*X)-\n",
    "             e_3*(2*alpha_0*X+alpha_3-2)-e_0*(2*alpha_3+alpha_0*X-2*X))\n",
    "a_5"
   ]
  },
  {
   "cell_type": "code",
   "execution_count": 12,
   "metadata": {},
   "outputs": [
    {
     "data": {
      "text/plain": [
       "-0.014449014376098432"
      ]
     },
     "execution_count": 12,
     "metadata": {},
     "output_type": "execute_result"
    }
   ],
   "source": [
    "a_6 = X**4*((e_3-e_0)**2+1-2*(e_3+e_0))\n",
    "a_6"
   ]
  },
  {
   "cell_type": "code",
   "execution_count": 13,
   "metadata": {},
   "outputs": [
    {
     "data": {
      "text/plain": [
       "array([ 2.98868536e-01, -8.77561400e+01,  3.02429666e+02,  6.40976748e+01,\n",
       "        3.44929138e+00, -1.95601491e-01, -1.44490144e-02])"
      ]
     },
     "execution_count": 13,
     "metadata": {},
     "output_type": "execute_result"
    }
   ],
   "source": [
    "koef = np.array((a_0,a_1,a_2,a_3,a_4,a_5,a_6))\n",
    "koef \n"
   ]
  },
  {
   "cell_type": "markdown",
   "metadata": {},
   "source": [
    "## Оценим кольцо корней по ф-ле: $\\frac{|a_n|}{|a_n|+B} \\leq |z| \\leq 1 + \\frac{A}{|a_0|}$,\n",
    "где $A = max\\left\\{ |a_1|, |a_2|, ..., |a_n| \\right\\}$ и $B = max\\left\\{ |a_0|, |a_1|, ..., |a_{n-1}| \\right\\}$"
   ]
  },
  {
   "cell_type": "code",
   "execution_count": 14,
   "metadata": {},
   "outputs": [
    {
     "data": {
      "text/plain": [
       "302.4296658753084"
      ]
     },
     "execution_count": 14,
     "metadata": {},
     "output_type": "execute_result"
    }
   ],
   "source": [
    "A = max(koef[1:])\n",
    "A"
   ]
  },
  {
   "cell_type": "code",
   "execution_count": 15,
   "metadata": {},
   "outputs": [
    {
     "data": {
      "text/plain": [
       "302.4296658753084"
      ]
     },
     "execution_count": 15,
     "metadata": {},
     "output_type": "execute_result"
    }
   ],
   "source": [
    "B = max(koef[:5:])\n",
    "B"
   ]
  },
  {
   "cell_type": "code",
   "execution_count": 16,
   "metadata": {},
   "outputs": [
    {
     "data": {
      "text/plain": [
       "4.777416277836539e-05"
      ]
     },
     "execution_count": 16,
     "metadata": {},
     "output_type": "execute_result"
    }
   ],
   "source": [
    "left = (abs(koef[6]))/(abs(koef[6])+B)\n",
    "left"
   ]
  },
  {
   "cell_type": "code",
   "execution_count": 17,
   "metadata": {},
   "outputs": [
    {
     "data": {
      "text/plain": [
       "1012.9153725586131"
      ]
     },
     "execution_count": 17,
     "metadata": {},
     "output_type": "execute_result"
    }
   ],
   "source": [
    "right = 1 + A/(abs(koef[0]))\n",
    "right"
   ]
  },
  {
   "cell_type": "markdown",
   "metadata": {},
   "source": [
    "## Корни лежат в кольце $4.7 \\cdot 10^{-5} \\leq |z| \\leq 1012.9$"
   ]
  },
  {
   "cell_type": "code",
   "execution_count": 18,
   "metadata": {},
   "outputs": [],
   "source": [
    "def func(Y, a_0, a_1, a_2, a_3, a_4, a_5, a_6):\n",
    "    return a_0*Y**6+a_1*Y**5+a_2*Y**4+a_3*Y**3+a_4*Y**2+a_5*Y+a_6\n",
    "    "
   ]
  },
  {
   "cell_type": "code",
   "execution_count": 19,
   "metadata": {},
   "outputs": [],
   "source": [
    "def sign(x):\n",
    "    if x >= 0:\n",
    "        return 1\n",
    "    elif x < 0:\n",
    "        return 0\n"
   ]
  },
  {
   "cell_type": "code",
   "execution_count": 20,
   "metadata": {},
   "outputs": [
    {
     "data": {
      "text/plain": [
       "1012.9153247844503"
      ]
     },
     "execution_count": 20,
     "metadata": {},
     "output_type": "execute_result"
    }
   ],
   "source": [
    "length = right - left\n",
    "length"
   ]
  },
  {
   "cell_type": "code",
   "execution_count": 36,
   "metadata": {},
   "outputs": [
    {
     "data": {
      "text/plain": [
       "1.0129153247844503e-05"
      ]
     },
     "execution_count": 36,
     "metadata": {},
     "output_type": "execute_result"
    }
   ],
   "source": [
    "N = 100000000\n",
    "T = length / N\n",
    "T\n"
   ]
  },
  {
   "cell_type": "markdown",
   "metadata": {},
   "source": [
    "### Положительный корень"
   ]
  },
  {
   "cell_type": "code",
   "execution_count": 37,
   "metadata": {},
   "outputs": [
    {
     "data": {
      "text/plain": [
       "[5563, 364616, 28643815]"
      ]
     },
     "execution_count": 37,
     "metadata": {},
     "output_type": "execute_result"
    }
   ],
   "source": [
    "il = []\n",
    "for i in range(N-1):\n",
    "    if sign(func(left + i*T, *koef)) != sign(func(left + (i+1)*T, *koef)):\n",
    "        il.append(i)\n",
    "    if len(il) == 3:\n",
    "            break\n",
    "il"
   ]
  },
  {
   "cell_type": "code",
   "execution_count": 38,
   "metadata": {},
   "outputs": [
    {
     "data": {
      "text/plain": [
       "[0.056401318257161256, 3.6933041793554735, 290.1376445766465]"
      ]
     },
     "execution_count": 38,
     "metadata": {},
     "output_type": "execute_result"
    }
   ],
   "source": [
    "y = []\n",
    "for i in range(3):\n",
    "    y.append((2*left+(2*il[i]+1)*T)/2)\n",
    "y"
   ]
  },
  {
   "cell_type": "code",
   "execution_count": 39,
   "metadata": {},
   "outputs": [
    {
     "name": "stdout",
     "output_type": "stream",
     "text": [
      "Значение функции слева и справа F(Y) = -0.000003  F(Y) = 0.000007\n",
      "Y_1 = 0.056401 локализовано в  [0.056396, 0.056406] \n",
      "\n",
      "\n",
      "Значение функции слева и справа F(Y) = 0.136605  F(Y) = -0.033732\n",
      "Y_2 = 3.693304 локализовано в  [3.693299, 3.693309] \n",
      "\n",
      "\n",
      "Значение функции слева и справа F(Y) = -1427245.024878  F(Y) = 4721886.836670\n",
      "Y_3 = 290.137645 локализовано в  [290.137640, 290.137650] \n",
      "\n",
      "\n"
     ]
    }
   ],
   "source": [
    "#positive\n",
    "for i in range(3):\n",
    "    print('Значение функции слева и справа F(Y) = %f  F(Y) = %f'%(func(left + il[i]*T, *koef), func(left + (il[i]+1)*T, *koef)))\n",
    "    print('Y_%d = %f локализовано в  [%f, %f] \\n\\n' %(i+1,(2*left+(2*il[i]+1)*T)/2, left + il[i]*T, left + (il[i]+1)*T) )\n",
    "\n"
   ]
  },
  {
   "cell_type": "markdown",
   "metadata": {},
   "source": [
    "### Отрицательный корень"
   ]
  },
  {
   "cell_type": "code",
   "execution_count": 40,
   "metadata": {},
   "outputs": [
    {
     "data": {
      "text/plain": [
       "[6001]"
      ]
     },
     "execution_count": 40,
     "metadata": {},
     "output_type": "execute_result"
    }
   ],
   "source": [
    "il_n = []\n",
    "for i in range(N-1):\n",
    "    if sign(func(-left - i*T, *koef)) != sign(func(-left - (i+1)*T, *koef)):\n",
    "        il_n.append(i)\n",
    "    if len(il_n) == 1:\n",
    "            break\n",
    "il_n"
   ]
  },
  {
   "cell_type": "code",
   "execution_count": 41,
   "metadata": {},
   "outputs": [
    {
     "name": "stdout",
     "output_type": "stream",
     "text": [
      "Значение функции слева и справа F(Y) = -0.000000  F(Y) = 0.000002\n",
      "Y_1 = -0.060838 локализовано в  [-0.060833, -0.060843] \n",
      "\n",
      "\n"
     ]
    }
   ],
   "source": [
    "#negative\n",
    "for i in range(len(il_n)):\n",
    "    print('Значение функции слева и справа F(Y) = %f  F(Y) = %f'%(func(-left - il_n[i]*T, *koef), func(-left - (il_n[i]+1)*T, *koef)))\n",
    "    print('Y_%d = %f локализовано в  [%f, %f] \\n\\n' %(i+1,-(2*left+(2*il_n[i]+1)*T)/2, -left - il_n[i]*T, -left - (il_n[i]+1)*T) )\n"
   ]
  },
  {
   "cell_type": "markdown",
   "metadata": {},
   "source": [
    "## График "
   ]
  },
  {
   "cell_type": "code",
   "execution_count": 42,
   "metadata": {},
   "outputs": [
    {
     "data": {
      "image/png": "[encoded data removed]",
      "text/plain": [
       "<Figure size 720x432 with 1 Axes>"
      ]
     },
     "metadata": {
      "needs_background": "light"
     },
     "output_type": "display_data"
    }
   ],
   "source": [
    "fig, ax = plt.subplots(figsize=(10, 6))\n",
    "dots = np.arange(-0.3, 0.2, 0.0001)\n",
    "ax.scatter(dots, func(dots, *koef), color = 'red', s = 0.5)\n",
    "ax.plot([0,0], [-1,1], color = 'royalblue')\n",
    "ax.plot([-1,1], [0,0], color = 'royalblue')\n",
    "ax.grid(which='major',color = 'k')\n",
    "\n",
    "ax.minorticks_on()\n",
    "\n",
    "ax.grid(which='minor',\n",
    "color = 'gray',\n",
    "linestyle = ':', linewidth = 0.5)\n",
    "ax.grid(which='major', linewidth = 0.5)\n",
    "\n",
    "plt.xlim (-0.2, 0.15)\n",
    "plt.ylim (-0.02, 0.1)\n",
    "plt.savefig('plot.png', dpi=400, quality=100)\n",
    "plt.show()"
   ]
  },
  {
   "cell_type": "code",
   "execution_count": 43,
   "metadata": {},
   "outputs": [
    {
     "data": {
      "image/png": "[encoded data removed]",
      "text/plain": [
       "<Figure size 720x432 with 1 Axes>"
      ]
     },
     "metadata": {
      "needs_background": "light"
     },
     "output_type": "display_data"
    }
   ],
   "source": [
    "fig, ax = plt.subplots(figsize=(10, 6))\n",
    "dots = np.arange(3.686, 3.7, 0.00001)\n",
    "ax.scatter(dots, func(dots, *koef), color = 'red', s = 3)\n",
    "ax.plot([0,0], [-100,100], color = 'royalblue')\n",
    "ax.plot([-100,100], [0,0], color = 'royalblue')\n",
    "ax.grid(which='major',color = 'k')\n",
    "\n",
    "ax.minorticks_on()\n",
    "\n",
    "ax.grid(which='minor',\n",
    "color = 'gray',\n",
    "linestyle = ':', linewidth = 0.5)\n",
    "ax.grid(which='major', linewidth = 0.5)\n",
    "\n",
    "plt.xlim (3.685, 3.7)\n",
    "plt.ylim (-100, 100)\n",
    "plt.savefig('plot-2.png', dpi=400, quality=100)\n",
    "plt.show()"
   ]
  },
  {
   "cell_type": "code",
   "execution_count": null,
   "metadata": {},
   "outputs": [],
   "source": [
    "# fig, ax = plt.subplots(figsize=(10, 6))\n",
    "# dots = np.arange(290.13, 290.14, 0.000000000001)\n",
    "# ax.scatter(dots, func(dots, *koef), color = 'red', s = 3)\n",
    "# ax.plot([0,0], [-100,100], color = 'royalblue')\n",
    "# ax.plot([-100,100], [0,0], color = 'royalblue')\n",
    "# ax.grid(which='major',color = 'k')\n",
    "\n",
    "# ax.minorticks_on()\n",
    "\n",
    "# ax.grid(which='minor',\n",
    "# color = 'gray',\n",
    "# linestyle = ':', linewidth = 0.5)\n",
    "# ax.grid(which='major', linewidth = 0.5)\n",
    "\n",
    "# plt.xlim (290.13, 290.14)\n",
    "# plt.ylim (-1, 100)\n",
    "# plt.savefig('plot-2.png', dpi=400, quality=100)\n",
    "# plt.show()"
   ]
  },
  {
   "cell_type": "code",
   "execution_count": 44,
   "metadata": {},
   "outputs": [
    {
     "data": {
      "text/plain": [
       "[171460007.50177023, 11227644705.240639, 882018439513.0054]"
      ]
     },
     "execution_count": 44,
     "metadata": {},
     "output_type": "execute_result"
    }
   ],
   "source": [
    "P_1 = []\n",
    "for i in range(len(y)):\n",
    "    P_1.append(P_0 * y[i]) \n",
    "P_1\n",
    "# print(r'$P_1$ = %f (дин/см^2)' %(P_1) )"
   ]
  },
  {
   "cell_type": "code",
   "execution_count": 45,
   "metadata": {},
   "outputs": [
    {
     "data": {
      "text/plain": [
       "[1.7458259335482968, 18.87515492303627, 46.4663125574755]"
      ]
     },
     "execution_count": 45,
     "metadata": {},
     "output_type": "execute_result"
    }
   ],
   "source": [
    "rho_1 = []\n",
    "for i in range(len(P_1)):\n",
    "    rho_1.append(rho_0 * ((gamma_0 - 1)+(gamma_0+1)*P_1[i]/P_0)/((gamma_0+1)+(gamma_0-1)*P_1[i]/P_0)) \n",
    "rho_1\n",
    "\n",
    "# print('rho_1 = %f (г/см^3)'%(rho_1))"
   ]
  },
  {
   "cell_type": "code",
   "execution_count": 100,
   "metadata": {},
   "outputs": [],
   "source": [
    "# rho_2 = rho_1 #это не точно))\n",
    "P_2 = P_1"
   ]
  },
  {
   "cell_type": "code",
   "execution_count": 131,
   "metadata": {},
   "outputs": [
    {
     "data": {
      "text/plain": [
       "[-10149.21590163449, -42218.79964937446, -366134.4650648237]"
      ]
     },
     "execution_count": 131,
     "metadata": {},
     "output_type": "execute_result"
    }
   ],
   "source": [
    "D_0 = []\n",
    "for i in range(len(P_1)):\n",
    "    D_0.append(U_0 - np.sqrt((P_0 - P_1[i])/(rho_0**2/rho_1[i] - rho_0)))\n",
    "# print('D_0 = %f (см/с)' %(D_0))\n",
    "D_0"
   ]
  },
  {
   "cell_type": "code",
   "execution_count": 138,
   "metadata": {},
   "outputs": [],
   "source": [
    "# D_3 = []    \n",
    "# for i in range(len(P_1)):\n",
    "#     D_3.append(U_3 - np.sqrt((P_2[i] - P_3)/(rho_3 - rho_3**2/rho_2[i])))\n",
    "\n",
    "# D_3"
   ]
  },
  {
   "cell_type": "code",
   "execution_count": 136,
   "metadata": {},
   "outputs": [],
   "source": [
    "# U_1 = []\n",
    "# for i in range(len(P_1)):\n",
    "#     U_1.append(U_0 + (P_1[i] - P_0)/(np.sqrt((P_1[i] - P_0)*rho_1[i]*rho_0/(rho_1[i]-rho_0))))\n",
    "# U_1"
   ]
  },
  {
   "cell_type": "code",
   "execution_count": 137,
   "metadata": {},
   "outputs": [],
   "source": [
    "# U_1 = []\n",
    "# for i in range(len(P_1)):\n",
    "#      U_1.append(U_0 + (-1)**k_u1[i]* (P_1[i]-P_0)/(rho_0*C_0*np.sqrt(((gamma_0-1)+(gamma_0+1)*P_1[i]/P_0)/(2*gamma_0))))\n",
    "# U_1"
   ]
  },
  {
   "cell_type": "code",
   "execution_count": 132,
   "metadata": {},
   "outputs": [
    {
     "data": {
      "text/plain": [
       "[35777.227398617535, 24548.592805515596, -203885.87709047148]"
      ]
     },
     "execution_count": 132,
     "metadata": {},
     "output_type": "execute_result"
    }
   ],
   "source": [
    "U_2 = []\n",
    "for i in range(len(P_1)):\n",
    "    U_2.append(U_3 + (-1)**k_u2[i] * (P_2[i]-P_3)/(rho_3*C_3*np.sqrt(((gamma_3-1)+(gamma_3+1)*P_2[i]/P_3)/(2*gamma_3))))\n",
    "# U_2[0] = -U_2[0]\n",
    "\n",
    "U_2"
   ]
  },
  {
   "cell_type": "code",
   "execution_count": 133,
   "metadata": {},
   "outputs": [],
   "source": [
    "sign_U_1 = ['-', '+', '-']\n",
    "k_u1 = [1,2,1]\n",
    "sign_U_2 = ['+', '-', '-']\n",
    "k_u2 = [2,1,1]"
   ]
  },
  {
   "cell_type": "code",
   "execution_count": 139,
   "metadata": {},
   "outputs": [
    {
     "data": {
      "text/plain": [
       "[56232.154886526034, 15276.529464841102, -255138.9209431857]"
      ]
     },
     "execution_count": 139,
     "metadata": {},
     "output_type": "execute_result"
    }
   ],
   "source": [
    "D_3 = []\n",
    "for i in range(len(P_1)):\n",
    "    D_3.append((U_3*U_2[i]-(U_3)**2-(P_3-P_2[i])/rho_3)/(U_2[i]-U_3))\n",
    "D_3"
   ]
  },
  {
   "cell_type": "code",
   "execution_count": 140,
   "metadata": {},
   "outputs": [
    {
     "data": {
      "text/plain": [
       "[3.4641824617412196, 42.580151308159266, 67.69216558326009]"
      ]
     },
     "execution_count": 140,
     "metadata": {},
     "output_type": "execute_result"
    }
   ],
   "source": [
    "rho_2 = []\n",
    "for i in range(len(P_1)):\n",
    "    rho_2.append((U_3-D_3[i])*rho_3/(U_2[i]-D_3[i]))\n",
    "rho_2"
   ]
  },
  {
   "cell_type": "code",
   "execution_count": null,
   "metadata": {},
   "outputs": [],
   "source": []
  },
  {
   "cell_type": "code",
   "execution_count": null,
   "metadata": {},
   "outputs": [],
   "source": []
  },
  {
   "cell_type": "code",
   "execution_count": null,
   "metadata": {},
   "outputs": [],
   "source": []
  },
  {
   "cell_type": "code",
   "execution_count": null,
   "metadata": {},
   "outputs": [],
   "source": []
  },
  {
   "cell_type": "code",
   "execution_count": null,
   "metadata": {},
   "outputs": [],
   "source": []
  },
  {
   "cell_type": "code",
   "execution_count": null,
   "metadata": {},
   "outputs": [],
   "source": []
  },
  {
   "cell_type": "code",
   "execution_count": null,
   "metadata": {},
   "outputs": [],
   "source": []
  },
  {
   "cell_type": "code",
   "execution_count": null,
   "metadata": {},
   "outputs": [],
   "source": []
  },
  {
   "cell_type": "code",
   "execution_count": null,
   "metadata": {},
   "outputs": [],
   "source": []
  },
  {
   "cell_type": "code",
   "execution_count": null,
   "metadata": {},
   "outputs": [],
   "source": []
  },
  {
   "cell_type": "code",
   "execution_count": null,
   "metadata": {},
   "outputs": [],
   "source": []
  },
  {
   "cell_type": "code",
   "execution_count": null,
   "metadata": {},
   "outputs": [],
   "source": []
  },
  {
   "cell_type": "code",
   "execution_count": 34,
   "metadata": {},
   "outputs": [
    {
     "name": "stdout",
     "output_type": "stream",
     "text": [
      "[0, 36, 2864]\n"
     ]
    }
   ],
   "source": [
    "N = 10000\n",
    "T = length/N\n",
    "while 1:\n",
    "    il = []\n",
    "    for i in range(N-1):\n",
    "        if sign(func(left + i*T, *koef)) != sign(func(left + (i+1)*T, *koef)):\n",
    "            il.append(i)\n",
    "        if len(il) == 3:\n",
    "            break\n",
    "    if len(il) < 3:\n",
    "        N *=2\n",
    "    else:\n",
    "        break\n",
    "print(il)"
   ]
  }
 ],
 "metadata": {
  "kernelspec": {
   "display_name": "Python 3",
   "language": "python",
   "name": "python3"
  },
  "language_info": {
   "codemirror_mode": {
    "name": "ipython",
    "version": 3
   },
   "file_extension": ".py",
   "mimetype": "text/x-python",
   "name": "python",
   "nbconvert_exporter": "python",
   "pygments_lexer": "ipython3",
   "version": "3.8.2"
  }
 },
 "nbformat": 4,
 "nbformat_minor": 4
}
