{
 "cells": [
  {
   "cell_type": "code",
   "execution_count": 229,
   "metadata": {},
   "outputs": [],
   "source": [
    "import numpy as np\n",
    "import math as mh\n",
    "import matplotlib.pyplot as plt"
   ]
  },
  {
   "cell_type": "markdown",
   "metadata": {},
   "source": [
    "## Численные начальные данные"
   ]
  },
  {
   "cell_type": "code",
   "execution_count": 349,
   "metadata": {},
   "outputs": [],
   "source": [
    "gamma_0 = 7/5\n",
    "rho_0 = 7.9\n",
    "P_0 = 3.04 * 10**9\n",
    "U_0 = 0\n",
    "gamma_3 = 7/5\n",
    "rho_3 = 11.37\n",
    "U_3 = 5 * 10**4\n",
    "P_3 = 1.17928 * 10**9"
   ]
  },
  {
   "cell_type": "markdown",
   "metadata": {},
   "source": [
    "## Запишем формулы коэффициентов\n"
   ]
  },
  {
   "cell_type": "code",
   "execution_count": 350,
   "metadata": {},
   "outputs": [],
   "source": [
    "alpha_3 = (gamma_3 + 1)/(gamma_3 - 1)\n",
    "alpha_0 = (gamma_0 + 1)/(gamma_0 - 1)\n",
    "# Y = P_1 / P_0\n",
    "X = P_3 / P_0\n",
    "C_3 = np.sqrt(gamma_3 * P_3 / rho_3)\n",
    "C_0 = np.sqrt(gamma_0 * P_0 / rho_0)\n",
    "e_0 = (2 * C_0**2) / (gamma_0 * (gamma_0 - 1) * (U_3 - U_0)**2)\n",
    "e_3 = (2 * C_3**2) / (gamma_3 * (gamma_3 - 1) * (U_3 - U_0)**2)"
   ]
  },
  {
   "cell_type": "code",
   "execution_count": 351,
   "metadata": {},
   "outputs": [
    {
     "data": {
      "text/plain": [
       "0.2988685359237299"
      ]
     },
     "execution_count": 351,
     "metadata": {},
     "output_type": "execute_result"
    }
   ],
   "source": [
    "a_0 = (alpha_0 * e_3 - alpha_3 * X * e_0)**2\n",
    "a_0"
   ]
  },
  {
   "cell_type": "code",
   "execution_count": 436,
   "metadata": {},
   "outputs": [
    {
     "data": {
      "text/plain": [
       "-87.75613999999999"
      ]
     },
     "execution_count": 436,
     "metadata": {},
     "output_type": "execute_result"
    }
   ],
   "source": [
    "a_1 = 2 *(np.sqrt(a_0)*(e_3*(1-2*alpha_0*X) - e_0*X*(X-2*alpha_3)) - alpha_0*alpha_3*X*(mh.sqrt(a_0)))\n",
    "a_1 = -8.775614 *10\n",
    "a_1"
   ]
  },
  {
   "cell_type": "code",
   "execution_count": 49,
   "metadata": {},
   "outputs": [
    {
     "data": {
      "text/plain": [
       "302.4296658753084"
      ]
     },
     "execution_count": 49,
     "metadata": {},
     "output_type": "execute_result"
    }
   ],
   "source": [
    "a_2 = e_3**2 * (6*alpha_0**2 * X**2 - 8*alpha_0*X + 1)-2*e_0*e_3*X*(alpha_0*alpha_3*(X**2+4*X+1)-2*(X+1)*(alpha_3+alpha_0*X)+X) +e_0**2*X**2*(6*alpha_3**2-8*alpha_3*X+X**2)+alpha_0**2*alpha_3**2*X**2 -2*alpha_0*X*e_3*(alpha_0*X-2*alpha_0*alpha_3*X+2*alpha_3) -2*alpha_3*X**2*e_0*(alpha_3+2*alpha_0*X-2*alpha_0*alpha_3)\n",
    "a_2"
   ]
  },
  {
   "cell_type": "code",
   "execution_count": 53,
   "metadata": {},
   "outputs": [
    {
     "data": {
      "text/plain": [
       "64.09767476496049"
      ]
     },
     "execution_count": 53,
     "metadata": {},
     "output_type": "execute_result"
    }
   ],
   "source": [
    "a_3 = -2*X*(2*e_3**2*(alpha_0**2*X**2-3*alpha_0*X+1)+e_0*e_3*((alpha_3+\n",
    "            alpha_0*X)*(X**2+4*X+1)-2*alpha_0*alpha_3*X*(X+1)-2*X*(X+1))+\n",
    "           2*e_0**2*X*(X**2-3*alpha_3*X+alpha_3**2)-alpha_0*alpha_3*X*(alpha_0*X+alpha_3)+\n",
    "           e_3*(alpha_0**2*alpha_3*X**2-2*X*(2*alpha_0*alpha_3+alpha_0**2*X)+(2*alpha_0*X+alpha_3))+\n",
    "           e_0*X*(alpha_0*alpha_3**2-2*alpha_3*(alpha_3+2*alpha_0*X)+2*alpha_3*X+alpha_0*X**2))\n",
    "a_3"
   ]
  },
  {
   "cell_type": "code",
   "execution_count": 55,
   "metadata": {},
   "outputs": [
    {
     "data": {
      "text/plain": [
       "3.449291380885679"
      ]
     },
     "execution_count": 55,
     "metadata": {},
     "output_type": "execute_result"
    }
   ],
   "source": [
    "a_4 = X**2*(e_3**2*(alpha_0**2*X**2-8*alpha_0*X+6)-\n",
    "           2*e_0*e_3*(alpha_0*alpha_3*X-2*(X+1)*(alpha_3+alpha_0*X)+X**2+4*X+1)+\n",
    "           e_0**2*(alpha_3**2-8*alpha_3*X+6*X**2)+(alpha_3**2+4*alpha_0*alpha_3*X+alpha_0**2*X**2)-\n",
    "           2*e_3*((alpha_0**2*X+2*alpha_0*alpha_3)*X-2*(2*alpha_0*X+alpha_3)+1)-\n",
    "           2*e_0*(alpha_3*(2*alpha_0*X+alpha_3)-2*X*(2*alpha_3+alpha_0*X)+X**2))\n",
    "a_4"
   ]
  },
  {
   "cell_type": "code",
   "execution_count": 57,
   "metadata": {},
   "outputs": [
    {
     "data": {
      "text/plain": [
       "-0.19560149065561766"
      ]
     },
     "execution_count": 57,
     "metadata": {},
     "output_type": "execute_result"
    }
   ],
   "source": [
    "a_5 = 2*X**3*(e_3**2*(alpha_0*X-2)-e_0*e_3*(alpha_0*X-2+alpha_3-2*X)+\n",
    "             e_0**2*(alpha_3-2*X)+(alpha_3+alpha_0*X)-\n",
    "             e_3*(2*alpha_0*X+alpha_3-2)-e_0*(2*alpha_3+alpha_0*X-2*X))\n",
    "a_5"
   ]
  },
  {
   "cell_type": "code",
   "execution_count": 58,
   "metadata": {},
   "outputs": [
    {
     "data": {
      "text/plain": [
       "-0.014449014376098432"
      ]
     },
     "execution_count": 58,
     "metadata": {},
     "output_type": "execute_result"
    }
   ],
   "source": [
    "a_6 = X**4*((e_3-e_0)**2+1-2*(e_3+e_0))\n",
    "a_6"
   ]
  },
  {
   "cell_type": "code",
   "execution_count": 437,
   "metadata": {},
   "outputs": [
    {
     "data": {
      "text/plain": [
       "array([ 2.98868536e-01, -8.77561400e+01,  3.02429666e+02,  6.40976748e+01,\n",
       "        3.44929138e+00, -1.95601491e-01, -1.44490144e-02])"
      ]
     },
     "execution_count": 437,
     "metadata": {},
     "output_type": "execute_result"
    }
   ],
   "source": [
    "koef = np.array((a_0,a_1,a_2,a_3,a_4,a_5,a_6))\n",
    "koef \n"
   ]
  },
  {
   "cell_type": "markdown",
   "metadata": {},
   "source": [
    "## Оценим кольцо корней по ф-ле: $\\frac{|a_n|}{|a_n|+B} \\leq |z| \\leq 1 + \\frac{A}{|a_0|}$,\n",
    "где $A = max\\left\\{ |a_1|, |a_2|, ..., |a_n| \\right\\}$ и $B = max\\left\\{ |a_0|, |a_1|, ..., |a_{n-1}| \\right\\}$"
   ]
  },
  {
   "cell_type": "code",
   "execution_count": 438,
   "metadata": {},
   "outputs": [
    {
     "data": {
      "text/plain": [
       "302.4296658753084"
      ]
     },
     "execution_count": 438,
     "metadata": {},
     "output_type": "execute_result"
    }
   ],
   "source": [
    "A = max(koef[1:])\n",
    "A"
   ]
  },
  {
   "cell_type": "code",
   "execution_count": 439,
   "metadata": {},
   "outputs": [
    {
     "data": {
      "text/plain": [
       "302.4296658753084"
      ]
     },
     "execution_count": 439,
     "metadata": {},
     "output_type": "execute_result"
    }
   ],
   "source": [
    "B = max(koef[:5:])\n",
    "B"
   ]
  },
  {
   "cell_type": "code",
   "execution_count": 440,
   "metadata": {},
   "outputs": [
    {
     "data": {
      "text/plain": [
       "4.777416277836539e-05"
      ]
     },
     "execution_count": 440,
     "metadata": {},
     "output_type": "execute_result"
    }
   ],
   "source": [
    "left = (abs(koef[6]))/(abs(koef[6])+B)\n",
    "left"
   ]
  },
  {
   "cell_type": "code",
   "execution_count": 441,
   "metadata": {},
   "outputs": [
    {
     "data": {
      "text/plain": [
       "1012.9153725586131"
      ]
     },
     "execution_count": 441,
     "metadata": {},
     "output_type": "execute_result"
    }
   ],
   "source": [
    "right = 1 + A/(abs(koef[0]))\n",
    "right"
   ]
  },
  {
   "cell_type": "markdown",
   "metadata": {},
   "source": [
    "## Корни лежат в кольце $4.7 \\cdot 10^{-5} \\leq |z| \\leq 1012.9$"
   ]
  },
  {
   "cell_type": "code",
   "execution_count": 442,
   "metadata": {},
   "outputs": [],
   "source": [
    "def func(Y, a_0, a_1, a_2, a_3, a_4, a_5, a_6):\n",
    "    return a_0*Y**6+a_1*Y**5+a_2*Y**4+a_3*Y**3+a_4*Y**2+a_5*Y+a_6\n",
    "    "
   ]
  },
  {
   "cell_type": "code",
   "execution_count": 443,
   "metadata": {},
   "outputs": [],
   "source": [
    "def sign(x):\n",
    "    if x >= 0:\n",
    "        return 1\n",
    "    elif x < 0:\n",
    "        return 0\n"
   ]
  },
  {
   "cell_type": "code",
   "execution_count": 444,
   "metadata": {},
   "outputs": [
    {
     "data": {
      "text/plain": [
       "1012.9153247844503"
      ]
     },
     "execution_count": 444,
     "metadata": {},
     "output_type": "execute_result"
    }
   ],
   "source": [
    "length = right - left\n",
    "length"
   ]
  },
  {
   "cell_type": "code",
   "execution_count": 446,
   "metadata": {},
   "outputs": [
    {
     "data": {
      "text/plain": [
       "0.010129153247844502"
      ]
     },
     "execution_count": 446,
     "metadata": {},
     "output_type": "execute_result"
    }
   ],
   "source": [
    "N = 100000\n",
    "T = length / N\n",
    "T\n"
   ]
  },
  {
   "cell_type": "markdown",
   "metadata": {},
   "source": [
    "### Положительный корень"
   ]
  },
  {
   "cell_type": "code",
   "execution_count": 456,
   "metadata": {},
   "outputs": [
    {
     "data": {
      "text/plain": [
       "[5, 364, 28643]"
      ]
     },
     "execution_count": 456,
     "metadata": {},
     "output_type": "execute_result"
    }
   ],
   "source": [
    "il = []\n",
    "for i in range(N-1):\n",
    "    if sign(func(left + i*T, *koef)) != sign(func(left + (i+1)*T, *koef)):\n",
    "        il.append(i)\n",
    "    if len(il) == 3:\n",
    "            break\n",
    "il"
   ]
  },
  {
   "cell_type": "code",
   "execution_count": 458,
   "metadata": {},
   "outputs": [
    {
     "data": {
      "text/plain": [
       "[0.05575811702592313, 3.6921241330020993, 290.1344488287968]"
      ]
     },
     "execution_count": 458,
     "metadata": {},
     "output_type": "execute_result"
    }
   ],
   "source": [
    "y = []\n",
    "for i in range(3):\n",
    "    y.append((2*left+(2*il[i]+1)*T)/2)\n",
    "y"
   ]
  },
  {
   "cell_type": "code",
   "execution_count": 448,
   "metadata": {},
   "outputs": [
    {
     "name": "stdout",
     "output_type": "stream",
     "text": [
      "-0.005182486679489451\n",
      "0.004902628044043645\n",
      "Y =  0.05575811702592313\n",
      "0.05069354040200088\n",
      "0.060822693649845376\n"
     ]
    }
   ],
   "source": [
    "#positive\n",
    "print(func(left + il[0]*T, *koef))\n",
    "print(func(left + (il[0]+1)*T, *koef))\n",
    "print('Y = ', (2*left+(2*il[0]+1)*T)/2 )\n",
    "print(left + il[0]*T)\n",
    "print(left + (il[0]+1)*T)\n",
    "Y_1 = (2*left+(2*il[0]+1)*T)/2"
   ]
  },
  {
   "cell_type": "markdown",
   "metadata": {},
   "source": [
    "### Отрицательный корень"
   ]
  },
  {
   "cell_type": "code",
   "execution_count": 459,
   "metadata": {},
   "outputs": [
    {
     "data": {
      "text/plain": [
       "[6]"
      ]
     },
     "execution_count": 459,
     "metadata": {},
     "output_type": "execute_result"
    }
   ],
   "source": [
    "il = []\n",
    "for i in range(N-1):\n",
    "    if sign(func(-left - i*T, *koef)) != sign(func(-left - (i+1)*T, *koef)):\n",
    "        il.append(i)\n",
    "    if len(il) == 3:\n",
    "            break\n",
    "il"
   ]
  },
  {
   "cell_type": "code",
   "execution_count": 460,
   "metadata": {},
   "outputs": [
    {
     "name": "stdout",
     "output_type": "stream",
     "text": [
      "-2.169856374249074e-06\n",
      "0.0017212083911751237\n",
      "Y =  -0.06588727027376762\n",
      "-0.060822693649845376\n",
      "-0.07095184689768988\n"
     ]
    }
   ],
   "source": [
    "#negative\n",
    "print(func(-left - il[0]*T, *koef))\n",
    "print(func(-left - (il[0]+1)*T, *koef))\n",
    "print('Y = ', -(2*left+(2*il[0]+1)*T)/2 )\n",
    "print(-left - il[0]*T)\n",
    "print(-left - (il[0]+1)*T)\n",
    "Y_2 = -(2*left+(2*il[0]+1)*T)/2"
   ]
  },
  {
   "cell_type": "markdown",
   "metadata": {},
   "source": [
    "## График "
   ]
  },
  {
   "cell_type": "code",
   "execution_count": 450,
   "metadata": {},
   "outputs": [
    {
     "data": {
      "image/png": "[encoded data removed]",
      "text/plain": [
       "<Figure size 720x432 with 1 Axes>"
      ]
     },
     "metadata": {
      "needs_background": "light"
     },
     "output_type": "display_data"
    }
   ],
   "source": [
    "fig, ax = plt.subplots(figsize=(10, 6))\n",
    "dots = np.arange(-0.3, 0.2, 0.0001)\n",
    "ax.scatter(dots, func(dots, *koef), color = 'red', s = 0.5)\n",
    "ax.plot([0,0], [-1,1], color = 'royalblue')\n",
    "ax.plot([-1,1], [0,0], color = 'royalblue')\n",
    "ax.grid(which='major',color = 'k')\n",
    "\n",
    "ax.minorticks_on()\n",
    "\n",
    "ax.grid(which='minor',\n",
    "color = 'gray',\n",
    "linestyle = ':', linewidth = 0.5)\n",
    "ax.grid(which='major', linewidth = 0.5)\n",
    "\n",
    "plt.xlim (-0.5, 0.5)\n",
    "plt.ylim (-0.05, 1)\n",
    "plt.savefig('plot.png', dpi=400, quality=100)\n",
    "plt.show()"
   ]
  },
  {
   "cell_type": "code",
   "execution_count": 466,
   "metadata": {},
   "outputs": [
    {
     "data": {
      "text/plain": [
       "[169504675.75880632, 11224057364.326382, 882008724439.5422]"
      ]
     },
     "execution_count": 466,
     "metadata": {},
     "output_type": "execute_result"
    }
   ],
   "source": [
    "P_1 = []\n",
    "for i in range(len(y)):\n",
    "    P_1.append(P_0 * y[i]) \n",
    "P_1\n",
    "# print(r'$P_1$ = %f (дин/см^2)' %(P_1) )"
   ]
  },
  {
   "cell_type": "markdown",
   "metadata": {},
   "source": [
    "## $P_1 = 1.71325597689833 \\cdot 10^8 (\\text{дин/см}^2)$"
   ]
  },
  {
   "cell_type": "code",
   "execution_count": 467,
   "metadata": {},
   "outputs": [
    {
     "data": {
      "text/plain": [
       "[1.740976859261769, 18.871681934148413, 46.46630248154665]"
      ]
     },
     "execution_count": 467,
     "metadata": {},
     "output_type": "execute_result"
    }
   ],
   "source": [
    "rho_1 = []\n",
    "for i in range(len(P_1)):\n",
    "    rho_1.append(rho_0 * ((gamma_0 - 1)+(gamma_0+1)*P_1[i]/P_0)/((gamma_0+1)+(gamma_0-1)*P_1[i]/P_0)) \n",
    "rho_1\n",
    "\n",
    "# print('rho_1 = %f (г/см^3)'%(rho_1))"
   ]
  },
  {
   "cell_type": "code",
   "execution_count": 468,
   "metadata": {},
   "outputs": [],
   "source": [
    "rho_2 = rho_1 #это не точно))\n",
    "P_2 = P_1"
   ]
  },
  {
   "cell_type": "code",
   "execution_count": 470,
   "metadata": {},
   "outputs": [
    {
     "data": {
      "text/plain": [
       "[10134.573054714127, 42212.34572124703, 366132.449806]"
      ]
     },
     "execution_count": 470,
     "metadata": {},
     "output_type": "execute_result"
    }
   ],
   "source": [
    "D_0 = []\n",
    "for i in range(len(P_1)):\n",
    "    D_0.append(np.sqrt((P_0 - P_1[i])/(rho_0**2/rho_1[i] - rho_0)))\n",
    "# print('D_0 = %f (см/с)' %(D_0))\n",
    "D_0"
   ]
  },
  {
   "cell_type": "markdown",
   "metadata": {},
   "source": [
    "## $D_0 = 1.0148210026 \\cdot 10^4 \\;\\; (\\frac{cm}{c})$"
   ]
  },
  {
   "cell_type": "code",
   "execution_count": 471,
   "metadata": {},
   "outputs": [
    {
     "data": {
      "text/plain": [
       "[45992.83220267006, 2857.1421634974176, -270260.9996988091]"
      ]
     },
     "execution_count": 471,
     "metadata": {},
     "output_type": "execute_result"
    }
   ],
   "source": [
    "D_3 = []    \n",
    "for i in range(len(P_1)):\n",
    "    D_3.append(U_3 - np.sqrt((P_2[i] - P_3)/(rho_3 - rho_3**2/rho_2[i])))\n",
    "\n",
    "D_3\n",
    "# print('D_3 = %f (см/с)' %(D_3))"
   ]
  },
  {
   "cell_type": "markdown",
   "metadata": {},
   "source": [
    "## $D_3 = 4.5990317665 \\cdot 10^4 \\;\\; (cm/c)$"
   ]
  },
  {
   "cell_type": "code",
   "execution_count": null,
   "metadata": {},
   "outputs": [],
   "source": []
  },
  {
   "cell_type": "code",
   "execution_count": 147,
   "metadata": {},
   "outputs": [
    {
     "data": {
      "text/plain": [
       "0"
      ]
     },
     "execution_count": 147,
     "metadata": {},
     "output_type": "execute_result"
    }
   ],
   "source": [
    "sign(func(left + 55*T, *koef))"
   ]
  },
  {
   "cell_type": "code",
   "execution_count": 148,
   "metadata": {},
   "outputs": [
    {
     "data": {
      "text/plain": [
       "1"
      ]
     },
     "execution_count": 148,
     "metadata": {},
     "output_type": "execute_result"
    }
   ],
   "source": [
    "sign(func(left + 56*T, *koef))"
   ]
  },
  {
   "cell_type": "code",
   "execution_count": 425,
   "metadata": {},
   "outputs": [
    {
     "ename": "KeyboardInterrupt",
     "evalue": "",
     "output_type": "error",
     "traceback": [
      "\u001b[0;31m---------------------------------------------------------------------------\u001b[0m",
      "\u001b[0;31mKeyboardInterrupt\u001b[0m                         Traceback (most recent call last)",
      "\u001b[0;32m<ipython-input-425-4f49443f78e2>\u001b[0m in \u001b[0;36m<module>\u001b[0;34m\u001b[0m\n\u001b[1;32m      4\u001b[0m     \u001b[0mil\u001b[0m \u001b[0;34m=\u001b[0m \u001b[0;34m[\u001b[0m\u001b[0;34m]\u001b[0m\u001b[0;34m\u001b[0m\u001b[0;34m\u001b[0m\u001b[0m\n\u001b[1;32m      5\u001b[0m     \u001b[0;32mfor\u001b[0m \u001b[0mi\u001b[0m \u001b[0;32min\u001b[0m \u001b[0mrange\u001b[0m\u001b[0;34m(\u001b[0m\u001b[0mN\u001b[0m\u001b[0;34m-\u001b[0m\u001b[0;36m1\u001b[0m\u001b[0;34m)\u001b[0m\u001b[0;34m:\u001b[0m\u001b[0;34m\u001b[0m\u001b[0;34m\u001b[0m\u001b[0m\n\u001b[0;32m----> 6\u001b[0;31m         \u001b[0;32mif\u001b[0m \u001b[0msign\u001b[0m\u001b[0;34m(\u001b[0m\u001b[0mfunc\u001b[0m\u001b[0;34m(\u001b[0m\u001b[0mleft\u001b[0m \u001b[0;34m+\u001b[0m \u001b[0mi\u001b[0m\u001b[0;34m*\u001b[0m\u001b[0mT\u001b[0m\u001b[0;34m,\u001b[0m \u001b[0;34m*\u001b[0m\u001b[0mkoef\u001b[0m\u001b[0;34m)\u001b[0m\u001b[0;34m)\u001b[0m \u001b[0;34m!=\u001b[0m \u001b[0msign\u001b[0m\u001b[0;34m(\u001b[0m\u001b[0mfunc\u001b[0m\u001b[0;34m(\u001b[0m\u001b[0mleft\u001b[0m \u001b[0;34m+\u001b[0m \u001b[0;34m(\u001b[0m\u001b[0mi\u001b[0m\u001b[0;34m+\u001b[0m\u001b[0;36m1\u001b[0m\u001b[0;34m)\u001b[0m\u001b[0;34m*\u001b[0m\u001b[0mT\u001b[0m\u001b[0;34m,\u001b[0m \u001b[0;34m*\u001b[0m\u001b[0mkoef\u001b[0m\u001b[0;34m)\u001b[0m\u001b[0;34m)\u001b[0m\u001b[0;34m:\u001b[0m\u001b[0;34m\u001b[0m\u001b[0;34m\u001b[0m\u001b[0m\n\u001b[0m\u001b[1;32m      7\u001b[0m             \u001b[0mil\u001b[0m\u001b[0;34m.\u001b[0m\u001b[0mappend\u001b[0m\u001b[0;34m(\u001b[0m\u001b[0mi\u001b[0m\u001b[0;34m)\u001b[0m\u001b[0;34m\u001b[0m\u001b[0;34m\u001b[0m\u001b[0m\n\u001b[1;32m      8\u001b[0m         \u001b[0;32mif\u001b[0m \u001b[0mlen\u001b[0m\u001b[0;34m(\u001b[0m\u001b[0mil\u001b[0m\u001b[0;34m)\u001b[0m \u001b[0;34m==\u001b[0m \u001b[0;36m3\u001b[0m\u001b[0;34m:\u001b[0m\u001b[0;34m\u001b[0m\u001b[0;34m\u001b[0m\u001b[0m\n",
      "\u001b[0;31mKeyboardInterrupt\u001b[0m: "
     ]
    }
   ],
   "source": [
    "N = 10000\n",
    "T = length/N\n",
    "while 1:\n",
    "    il = []\n",
    "    for i in range(N-1):\n",
    "        if sign(func(left + i*T, *koef)) != sign(func(left + (i+1)*T, *koef)):\n",
    "            il.append(i)\n",
    "        if len(il) == 3:\n",
    "            break\n",
    "    if len(il) < 3:\n",
    "        N *=2\n",
    "    else:\n",
    "        break\n",
    "print(il)"
   ]
  },
  {
   "cell_type": "code",
   "execution_count": null,
   "metadata": {},
   "outputs": [],
   "source": []
  },
  {
   "cell_type": "code",
   "execution_count": null,
   "metadata": {},
   "outputs": [],
   "source": []
  },
  {
   "cell_type": "code",
   "execution_count": 400,
   "metadata": {},
   "outputs": [
    {
     "data": {
      "text/plain": [
       "6"
      ]
     },
     "execution_count": 400,
     "metadata": {},
     "output_type": "execute_result"
    }
   ],
   "source": [
    "6"
   ]
  },
  {
   "cell_type": "code",
   "execution_count": null,
   "metadata": {},
   "outputs": [],
   "source": []
  },
  {
   "cell_type": "code",
   "execution_count": null,
   "metadata": {},
   "outputs": [],
   "source": [
    "for phi in np.arange(0,2*np.pi, 0.1)\n",
    "    "
   ]
  },
  {
   "cell_type": "code",
   "execution_count": 212,
   "metadata": {},
   "outputs": [
    {
     "data": {
      "text/plain": [
       "(-3302.2860401985913-6892.260451754309j)"
      ]
     },
     "execution_count": 212,
     "metadata": {},
     "output_type": "execute_result"
    }
   ],
   "source": [
    "func(complex(1,2), *koef)"
   ]
  },
  {
   "cell_type": "code",
   "execution_count": null,
   "metadata": {},
   "outputs": [],
   "source": []
  }
 ],
 "metadata": {
  "kernelspec": {
   "display_name": "Python 3",
   "language": "python",
   "name": "python3"
  },
  "language_info": {
   "codemirror_mode": {
    "name": "ipython",
    "version": 3
   },
   "file_extension": ".py",
   "mimetype": "text/x-python",
   "name": "python",
   "nbconvert_exporter": "python",
   "pygments_lexer": "ipython3",
   "version": "3.8.2"
  }
 },
 "nbformat": 4,
 "nbformat_minor": 4
}
