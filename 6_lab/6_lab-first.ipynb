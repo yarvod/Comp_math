{
 "cells": [
  {
   "cell_type": "markdown",
   "id": "crazy-consumer",
   "metadata": {},
   "source": [
    "# Раздел 6. Уравнения с частными производными параболического типа.\n",
    "## Лабораторная работа №6. Методы решения квазилинейного уравнения теплопроводности.\n",
    "### Вариант 2 Задание 5\n",
    "_Яромир Водзяновский_"
   ]
  },
  {
   "cell_type": "markdown",
   "id": "referenced-analyst",
   "metadata": {},
   "source": [
    "Дифференциальная задача\n",
    "\n",
    "$$\\frac{\\partial u}{\\partial t} = \\frac{\\partial}{\\partial x} \\left( u^{1/3} \\frac{\\partial u}{\\partial x} \\right) + \\frac{\\partial}{\\partial y} \\left( u^{1/3} \\frac{\\partial u}{\\partial y} \\right), \\;\\;\\; 0 < t\\leq 1, \\; 0 < x,y <1    $$\n",
    "$$u(0,x,y) = (1+x+y)^6 / 27000, \\; 0 \\leq x,y \\leq 1  $$\n",
    "$$u(t,0,y) = (1+y)^6 / (30-28t)^3, \\; 0 < t \\leq 1, \\; 0 \\leq y \\leq 1  $$\n",
    "$$u(t,1,y) = (2+y)^6/(30-28t)^3, \\; 0 < t \\leq 1, \\; 0 \\leq y \\leq 1   $$\n",
    "$$u(t,x,0) = (1+x)^6 /(30-28t)^3, \\; 0 < t \\leq 1, \\; 0 < x < 1    $$\n",
    "$$u(t,x,1) = (2+x)^6 /(30-28t)^3, \\; 0 < t \\leq 1, \\; 0 < x < 1    $$\n",
    "Решение в виде: \n",
    "$$u = (C_z + x + y)^{2/\\mu} \\left[ C_t - \\frac{4 (\\mu +2)}{\\mu}t \\right]^{-1/\\mu} $$\n",
    "\n",
    "Для нашей задачи:\n",
    "$$C_t = 30, \\; C_z = 1,\\; \\mu = \\frac{1}{3}$$"
   ]
  },
  {
   "cell_type": "code",
   "execution_count": 2,
   "id": "little-yemen",
   "metadata": {},
   "outputs": [],
   "source": [
    "import numpy as np"
   ]
  },
  {
   "cell_type": "code",
   "execution_count": 3,
   "id": "organic-apparatus",
   "metadata": {},
   "outputs": [],
   "source": [
    "def anal(x,y,t):\n",
    "    return (C_z + x+y)**(2/mu) * (C_t - 4*(mu+2)/mu * t)**(-1/mu)\n"
   ]
  },
  {
   "cell_type": "code",
   "execution_count": 4,
   "id": "weighted-salvation",
   "metadata": {},
   "outputs": [],
   "source": [
    "def U_anal(x,y,t):   \n",
    "\n",
    "    t_a = []\n",
    "    for i in range(N+1):\n",
    "        for j in range((L+1)*(K+1)):\n",
    "            t_a.append(t[i])\n",
    "\n",
    "    y_ar = []\n",
    "    y_a = np.array([])\n",
    "    for i in range(K+1):\n",
    "        for j in range(L+1):\n",
    "            y_ar.append(y[i])\n",
    "    y_ar = np.array(y_ar)\n",
    "    for n in range(N+1):\n",
    "        y_a = np.concatenate((y_a,y_ar))\n",
    "\n",
    "    x_a = np.array([])\n",
    "    for i in range((K+1)*(N+1)):\n",
    "        x_a = np.concatenate((x_a,x))\n",
    "\n",
    "    U_an = np.vectorize(anal)(x_a,y_a,t_a).reshape(N+1,L+1,K+1)\n",
    "    return U_an"
   ]
  },
  {
   "cell_type": "code",
   "execution_count": 18,
   "id": "bulgarian-three",
   "metadata": {},
   "outputs": [],
   "source": [
    "C_z = 1\n",
    "C_t = 30\n",
    "mu = 1/3\n",
    "N1 = 4\n",
    "L1 = 5\n",
    "K1 = 6\n",
    "N = N1-1\n",
    "K = K1-1\n",
    "L = L1-1\n",
    "tau = 1/N\n",
    "h_x = 1/L\n",
    "h_y = 1/K\n",
    "np.set_printoptions(formatter={'all':lambda x: np.format_float_scientific(x, precision = 2)})"
   ]
  },
  {
   "cell_type": "code",
   "execution_count": 19,
   "id": "threaded-display",
   "metadata": {},
   "outputs": [],
   "source": [
    "x = np.arange(0,1+1/(L*1000) , 1/L)\n",
    "y = np.arange(0,1+1/(K*1000) , 1/K)\n",
    "t = np.arange(0,1+1/(N*1000) , 1/N)\n",
    "# t = np.zeros((1,N+1))[0]\n"
   ]
  },
  {
   "cell_type": "code",
   "execution_count": 21,
   "id": "expected-pharmacology",
   "metadata": {},
   "outputs": [
    {
     "data": {
      "text/plain": [
       "array([[[3.70e-05, 1.41e-04, 4.22e-04, 1.06e-03, 2.37e-03, 1.11e-04],\n",
       "        [3.44e-04, 8.94e-04, 2.04e-03, 4.2e-03, 2.79e-04, 7.47e-04],\n",
       "        [1.74e-03, 3.66e-03, 7.08e-03, 6.21e-04, 1.48e-03, 3.18e-03],\n",
       "        [6.24e-03, 1.14e-02, 1.26e-03, 2.75e-03, 5.48e-03, 1.02e-02],\n",
       "        [1.78e-02, 2.37e-03, 4.81e-03, 9.04e-03, 1.60e-02, 2.7e-02]],\n",
       "\n",
       "       [[1.13e-04, 1.13e-04, 1.13e-04, 1.13e-04, 1.13e-04, 3.38e-04],\n",
       "        [4.32e-04, 0.e+00, 0.e+00, 0.e+00, 0.e+00, 1.47e-02],\n",
       "        [1.29e-03, 0.e+00, 0.e+00, 0.e+00, 0.e+00, 2.77e-02],\n",
       "        [3.25e-03, 0.e+00, 0.e+00, 0.e+00, 0.e+00, 4.9e-02],\n",
       "        [5.46e-02, 8.26e-02, 8.26e-02, 8.26e-02, 8.26e-02, 8.26e-02]],\n",
       "\n",
       "       [[6.87e-04, 6.87e-04, 6.87e-04, 6.87e-04, 6.87e-04, 2.05e-03],\n",
       "        [2.62e-03, 0.e+00, 0.e+00, 0.e+00, 0.e+00, 8.91e-02],\n",
       "        [7.82e-03, 0.e+00, 0.e+00, 0.e+00, 0.e+00, 1.68e-01],\n",
       "        [1.97e-02, 0.e+00, 0.e+00, 0.e+00, 0.e+00, 2.97e-01],\n",
       "        [3.31e-01, 5.01e-01, 5.01e-01, 5.01e-01, 5.01e-01, 5.01e-01]],\n",
       "\n",
       "       [[1.25e-01, 1.25e-01, 1.25e-01, 1.25e-01, 1.25e-01, 3.73e-01],\n",
       "        [4.77e-01, 0.e+00, 0.e+00, 0.e+00, 0.e+00, 1.62e+01],\n",
       "        [1.42e+00, 0.e+00, 0.e+00, 0.e+00, 0.e+00, 3.05e+01],\n",
       "        [3.59e+00, 0.e+00, 0.e+00, 0.e+00, 0.e+00, 5.41e+01],\n",
       "        [6.02e+01, 9.11e+01, 9.11e+01, 9.11e+01, 9.11e+01, 9.11e+01]]])"
      ]
     },
     "execution_count": 21,
     "metadata": {},
     "output_type": "execute_result"
    }
   ],
   "source": [
    "U = np.zeros((N1,L1,K1))\n",
    "U[0] = U_anal(x,y,np.zeros((1,N+1))[0])[0]\n",
    "U[1:].reshape(1,(N1-1)*L1*K1)[0][::K1] = U_anal(x,np.zeros((1,K+1))[0],t)[1:].reshape(1,(N1-1)*L1*K1)[0][::K1]\n",
    "U[1:].reshape(1,(N1-1)*L1*K1)[0][K::K1] = U_anal(x,np.ones((1,K+1))[0],t)[1:].reshape(1,(N1-1)*L1*K1)[0][K::K1]\n",
    "U.reshape(N1*L1,K1)[L1::L1] = U_anal(np.zeros((1,L+1))[0],y,t).reshape(N1*L1,K1)[L1::L1]\n",
    "U.reshape(N1*L1,K1)[2*L1-1::L1] = U_anal(np.ones((1,L+1))[0],y,t).reshape(N1*L1,K1)[2*L1-1::L1]\n",
    "\n",
    "U\n",
    "\n"
   ]
  },
  {
   "cell_type": "code",
   "execution_count": null,
   "id": "variable-dating",
   "metadata": {},
   "outputs": [],
   "source": []
  },
  {
   "cell_type": "code",
   "execution_count": null,
   "id": "featured-audit",
   "metadata": {},
   "outputs": [],
   "source": [
    "a_l = -((U[n][l+1][k])**mu + (U[n][l][k])**mu)*tau/(2*h_x**2)\n",
    "c_l = -((U[n][l][k])**mu + (u[n][l-1][k])**mu)*tau/(2*h_x**2)\n",
    "b_l = 1-a_l-c_l"
   ]
  }
 ],
 "metadata": {
  "kernelspec": {
   "display_name": "Python 3",
   "language": "python",
   "name": "python3"
  },
  "language_info": {
   "codemirror_mode": {
    "name": "ipython",
    "version": 3
   },
   "file_extension": ".py",
   "mimetype": "text/x-python",
   "name": "python",
   "nbconvert_exporter": "python",
   "pygments_lexer": "ipython3",
   "version": "3.9.2"
  }
 },
 "nbformat": 4,
 "nbformat_minor": 5
}
