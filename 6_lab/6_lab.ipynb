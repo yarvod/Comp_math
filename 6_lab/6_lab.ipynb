{
 "cells": [
  {
   "cell_type": "markdown",
   "metadata": {},
   "source": [
    "# Раздел 6. Уравнения с частными производными параболического типа.\n",
    "## Лабораторная работа №6. Методы решения квазилинейного уравнения теплопроводности.\n",
    "### Вариант 2 Задание 5\n",
    "_Яромир Водзяновский_"
   ]
  },
  {
   "cell_type": "markdown",
   "metadata": {},
   "source": [
    "Дифференциальная задача\n",
    "\n",
    "$$\\frac{\\partial u}{\\partial t} = \\frac{\\partial}{\\partial x} \\left( u^{1/3} \\frac{\\partial u}{\\partial x} \\right) + \\frac{\\partial}{\\partial y} \\left( u^{1/3} \\frac{\\partial u}{\\partial y} \\right), \\;\\;\\; 0 < t\\leq 1, \\; 0 < x,y <1    $$\n",
    "$$u(0,x,y) = (1+x+y)^6 / 27000, \\; 0 \\leq x,y \\leq 1  $$\n",
    "$$u(t,0,y) = (1+y)^6 / (30-28t)^3, \\; 0 < t \\leq 1, \\; 0 \\leq y \\leq 1  $$\n",
    "$$u(t,1,y) = (2+y)^6/(30-28t)^3, \\; 0 < t \\leq 1, \\; 0 \\leq y \\leq 1   $$\n",
    "$$u(t,x,0) = (1+x)^6 /(30-28t)^3, \\; 0 < t \\leq 1, \\; 0 < x < 1    $$\n",
    "$$u(t,x,1) = (2+x)^6 /(30-28t)^3, \\; 0 < t \\leq 1, \\; 0 < x < 1    $$"
   ]
  },
  {
   "cell_type": "raw",
   "metadata": {},
   "source": []
  }
 ],
 "metadata": {
  "kernelspec": {
   "display_name": "Python 3",
   "language": "python",
   "name": "python3"
  },
  "language_info": {
   "codemirror_mode": {
    "name": "ipython",
    "version": 3
   },
   "file_extension": ".py",
   "mimetype": "text/x-python",
   "name": "python",
   "nbconvert_exporter": "python",
   "pygments_lexer": "ipython3",
   "version": "3.9.2"
  }
 },
 "nbformat": 4,
 "nbformat_minor": 5
}