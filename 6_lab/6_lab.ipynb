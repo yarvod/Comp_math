{
 "cells": [
  {
   "cell_type": "markdown",
   "id": "chicken-creature",
   "metadata": {},
   "source": [
    "# Раздел 6. Уравнения с частными производными параболического типа.\n",
    "## Лабораторная работа №6. Методы решения квазилинейного уравнения теплопроводности.\n",
    "### Вариант 2 Задание 5\n",
    "_Яромир Водзяновский_"
   ]
  },
  {
   "cell_type": "markdown",
   "id": "pursuant-transmission",
   "metadata": {},
   "source": [
    "Дифференциальная задача\n",
    "\n",
    "$$\\frac{\\partial u}{\\partial t} = \\frac{\\partial}{\\partial x} \\left( u^{1/3} \\frac{\\partial u}{\\partial x} \\right) + \\frac{\\partial}{\\partial y} \\left( u^{1/3} \\frac{\\partial u}{\\partial y} \\right), \\;\\;\\; 0 < t\\leq 1, \\; 0 < x,y <1    $$\n",
    "$$u(0,x,y) = (1+x+y)^6 / 27000, \\; 0 \\leq x,y \\leq 1  $$\n",
    "$$u(t,0,y) = (1+y)^6 / (30-28t)^3, \\; 0 < t \\leq 1, \\; 0 \\leq y \\leq 1  $$\n",
    "$$u(t,1,y) = (2+y)^6/(30-28t)^3, \\; 0 < t \\leq 1, \\; 0 \\leq y \\leq 1   $$\n",
    "$$u(t,x,0) = (1+x)^6 /(30-28t)^3, \\; 0 < t \\leq 1, \\; 0 < x < 1    $$\n",
    "$$u(t,x,1) = (2+x)^6 /(30-28t)^3, \\; 0 < t \\leq 1, \\; 0 < x < 1    $$\n",
    "Решение в виде: \n",
    "$$u = (C_z + x + y)^{2/\\mu} \\left[ C_t - \\frac{4 (\\mu +2)}{\\mu}t \\right]^{-1/\\mu} $$\n",
    "\n",
    "Для нашей задачи:\n",
    "$$C_t = 30, \\; C_z = 1,\\; \\mu = \\frac{1}{3}$$"
   ]
  },
  {
   "cell_type": "code",
   "execution_count": 4,
   "id": "confidential-latin",
   "metadata": {},
   "outputs": [],
   "source": [
    "import numpy as np"
   ]
  },
  {
   "cell_type": "code",
   "execution_count": 21,
   "id": "loving-violation",
   "metadata": {},
   "outputs": [],
   "source": [
    "def anal(x,y):\n",
    "    return (C_z + x+y)**(2/mu) * (C_t - 4*(mu+2)/mu )**(-1/mu)\n"
   ]
  },
  {
   "cell_type": "code",
   "execution_count": 35,
   "id": "prerequisite-progress",
   "metadata": {},
   "outputs": [],
   "source": [
    "def U_anal(x,y):   \n",
    "\n",
    "    y_a = []\n",
    "    for i in range(K+1):\n",
    "        for j in range(L+1):\n",
    "            y_a.append(y[i])\n",
    "    y_a = np.array(y_a)\n",
    "\n",
    "    x_a = np.array([])\n",
    "    for i in range(K+1):\n",
    "        x_a = np.concatenate((x_a,x))\n",
    "\n",
    "    U_an = np.vectorize(anal)(x_a,y_a).reshape(L+1,K+1)\n",
    "    return U_an"
   ]
  },
  {
   "cell_type": "code",
   "execution_count": 6,
   "id": "graduate-antigua",
   "metadata": {},
   "outputs": [],
   "source": [
    "C_z = 1\n",
    "C_t = 30\n",
    "mu = 1/3\n",
    "L = 5\n",
    "K = 5\n",
    "N = 5"
   ]
  },
  {
   "cell_type": "code",
   "execution_count": 25,
   "id": "painful-wings",
   "metadata": {},
   "outputs": [],
   "source": [
    "x = np.arange(0,1+1/(L*1000) , 1/L)\n",
    "y = np.arange(0,1+1/(K*1000) , 1/K)\n",
    "t = np.ones((1,N+1))"
   ]
  },
  {
   "cell_type": "code",
   "execution_count": 36,
   "id": "sticky-gospel",
   "metadata": {},
   "outputs": [
    {
     "data": {
      "text/plain": [
       "array([[ 0.125   ,  0.373248,  0.941192,  2.097152,  4.251528,  8.      ],\n",
       "       [ 0.373248,  0.941192,  2.097152,  4.251528,  8.      , 14.172488],\n",
       "       [ 0.941192,  2.097152,  4.251528,  8.      , 14.172488, 23.887872],\n",
       "       [ 2.097152,  4.251528,  8.      , 14.172488, 23.887872, 38.614472],\n",
       "       [ 4.251528,  8.      , 14.172488, 23.887872, 38.614472, 60.236288],\n",
       "       [ 8.      , 14.172488, 23.887872, 38.614472, 60.236288, 91.125   ]])"
      ]
     },
     "execution_count": 36,
     "metadata": {},
     "output_type": "execute_result"
    }
   ],
   "source": [
    "U_anal(x,y)"
   ]
  },
  {
   "cell_type": "code",
   "execution_count": null,
   "id": "surgical-hudson",
   "metadata": {},
   "outputs": [],
   "source": []
  }
 ],
 "metadata": {
  "kernelspec": {
   "display_name": "Python 3",
   "language": "python",
   "name": "python3"
  },
  "language_info": {
   "codemirror_mode": {
    "name": "ipython",
    "version": 3
   },
   "file_extension": ".py",
   "mimetype": "text/x-python",
   "name": "python",
   "nbconvert_exporter": "python",
   "pygments_lexer": "ipython3",
   "version": "3.9.2"
  }
 },
 "nbformat": 4,
 "nbformat_minor": 5
}
