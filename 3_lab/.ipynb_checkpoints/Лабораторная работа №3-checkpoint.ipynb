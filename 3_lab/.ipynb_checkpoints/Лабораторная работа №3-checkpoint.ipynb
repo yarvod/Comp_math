{
 "cells": [
  {
   "cell_type": "markdown",
   "metadata": {},
   "source": [
    "# Раздел 3: Обыкновенные дифференциальные уравнения\n",
    "\n",
    "## Лабораторная работа № 3: Метод Рунге-Кутты (Задание 1)\n",
    " \n",
    "Выполнил студнет 854 группы ФЭФМ\n",
    "  \n",
    "_Артемий Атепалихин_"
   ]
  },
  {
   "cell_type": "markdown",
   "metadata": {},
   "source": [
    "## Цель:\n",
    "\n",
    "- Получить численное ДУ первого порядка методом Рунге-Кутты 4-го порядка\n",
    "- Определить погрешность вычисления\n",
    "- Построить график"
   ]
  },
  {
   "cell_type": "markdown",
   "metadata": {},
   "source": [
    "## Теория\n",
    "### Общие положения\n",
    "\n",
    "Общий вид ДУ:\n",
    "\n",
    "$$\\frac{dy}{dx} = f(x,y)$$\n",
    "\n",
    "Положим, что величина сеточной функции в узле $x_0 = X_0$ равняется начальному условия $y_0 = y^0$, значение в узлах сетки находим по формуле:\n",
    "\n",
    "$$y_{n+1} = y(x_n+h) = y(x_n) + h \\sum\\limits_{i=1}^s b_i f_i \\left( x_n + c_i h, y_n + h \\sum\\limits_{j=1}^{i-1} a_{ij} f_j \\right)$$\n",
    "\n",
    "$$f_s = f \\left( x_n + c_s h_s, y_n + h \\sum\\limits_{j=1}^{s-1} a_{sj}f_j \\right) = f_s(x_s, z_s)$$\n",
    "\n",
    "$$x_s = x_n + c_sh,\\;\\;\\;\\;\\;\\; z_s = y_n + h \\sum\\limits_{j=1}^{s-1} a_{sj}f_j$$"
   ]
  },
  {
   "cell_type": "markdown",
   "metadata": {},
   "source": [
    "Предполагается, что $y(x_n)$ известно и имеет конкретное значение. При нахождении $y_1$ в качестве $y(x_n)$, $n = 0$ берется $y(x_0) = y_0 = y^0$ и тд.\n",
    "\n",
    "Рассмотрим функцию \n",
    "\n",
    "$$\\varphi(h) = y(x_n + h) - y(x_n) - h \\sum \\limits_{i=1}^s b_i f_i (x_i, z_i) = \\sum\\limits_{k=0}^s \\frac{\\varphi^{(k)}(0)}{k!} h^k + \\frac{\\varphi^{(s+1)}(\\theta h)}{(s+1)!} h^{s+1},\\;\\;\\; 0 \\leq \\theta \\leq 1$$\n",
    "\n",
    "и определим поярдок сходимост метода.\n",
    "\n",
    "__Определение.__ Разностный метод Рунге_Кутты, задаваемый соотношениями выше имеет $q$ порядок сходимости, если:\n",
    "\n",
    "$$\\varphi(0) = \\varphi'(0) = ... = \\varphi^{(q+1)}(0) = 0,\\;\\;\\; a\\varphi_n^{(q+1)} \\neq 0, \\;\\;\\; q \\leq S$$\n"
   ]
  },
  {
   "cell_type": "markdown",
   "metadata": {},
   "source": [
    "### Формулы метода РК 4-го порядка\n",
    "\n",
    "Вычислим первые  четыре производные по $h$ от функции $\\varphi(h)$, пологая $S = 4$ и дифференцируем ее как сложную фукнцию. Надо будет найти производные от функции $\\frac{dy}{dx} = f(x,y)$. Также потребуется первые три производные по $h$ от функций $f_i (x_i, z_i)$, $i = 1, 2, 3, 4.$\n",
    "\n",
    "Согласно алгоритму для РК первого порядка требуем условие $\\varphi'_h(0) = 0$, учитывая $y'_x = f$. Так как это равенство должно выполняться для произвольной непрерывно диффернецируемой функции $f(x,y)$ из правой части необходимо, чтобы :\n",
    "\n",
    "$$b_1 + b_2 + b_3 + b_4 = 1 \\;\\;\\; (f)$$\n",
    "\n",
    "При увеличении порядка бужем наращивать условия, например для 2-го: $\\varphi''_{hh}(0) = 0$ и $\\forall f'_x, f'_y$ выполняется:\n",
    "\n",
    "$$2b_2 c_2 + 2b_3 c_3 + 2b_4 c_4 = 1 \\;\\;\\; (f'_x)$$\n",
    "$$2b_2a_{21} + 2b_3(a_{31} + a_{32}) + 2b_4 (a_{41} + a_{42} + a_{43}) = 1 \\;\\;\\; (f'_y f)$$\n",
    "\n",
    "Далее аналогично до 4-го порядка."
   ]
  },
  {
   "cell_type": "markdown",
   "metadata": {},
   "source": [
    "__Классический 4-стадийный методкРК 4-го порядка точности__ \n",
    " \n",
    "$$f_1 = f(x_n, y_n); \\;\\;\\; f_2 = f\\left( x_n + \\frac{h}{2}, y_n + \\frac{h}{2} f_1 \\right);$$\n",
    "\n",
    "$$f_3 = f\\left( x_n + \\frac{h}{2}, y_n + \\frac{h}{2} f_2 \\right); \\;\\;\\; f_4 = f(x_n + h, y_n + hf_3).$$\n",
    "\n",
    "$$y_{n+1} = y_n + \\frac{h}{6} (f_1 + 2f_2 +2f_3 + f_4)$$\n",
    "\n",
    "Таблица Бутчера:\n",
    " \n",
    " 0 | 0 | - | - | -\n",
    "  --|--|--|--|--\n",
    "1/2 | 1/2| 0 | - | -   \n",
    "1/2 |0 |0| 1/2|0\n",
    "1  |0|0|1|0\n",
    " - |1/6| 2/6 |2/6 | 1/6"
   ]
  },
  {
   "cell_type": "markdown",
   "metadata": {},
   "source": [
    "##  Добавим нужные библиотеки, введем начальные данные"
   ]
  },
  {
   "cell_type": "code",
   "execution_count": 7,
   "metadata": {},
   "outputs": [],
   "source": [
    "import numpy as np\n",
    "import matplotlib\n",
    "import matplotlib.pyplot as plt\n",
    "import pandas as pd"
   ]
  },
  {
   "cell_type": "code",
   "execution_count": 8,
   "metadata": {},
   "outputs": [],
   "source": [
    "x_lim = [1, 2]\n",
    "x_0, y_0 = 1, 1\n",
    "N = 11\n",
    "k = 4\n",
    "eps = 10**(-4)\n",
    "def func(x, y):\n",
    "    return (2*x**3 + x**2 - y**2)/(2*x**2 * y)"
   ]
  },
  {
   "cell_type": "markdown",
   "metadata": {},
   "source": [
    "## Запишем таблицу Бутчера для РК 4"
   ]
  },
  {
   "cell_type": "code",
   "execution_count": 9,
   "metadata": {},
   "outputs": [],
   "source": [
    "c = np.array([1/2, 1/2, 1])\n",
    "tri_a = np.array([1/2, 0, 1/2, 0, 0, 1])\n",
    "b = np.array([1/6, 2/6, 2/6, 1/6])"
   ]
  },
  {
   "cell_type": "markdown",
   "metadata": {},
   "source": [
    "##  Введем функции для подсчета"
   ]
  },
  {
   "cell_type": "code",
   "execution_count": 10,
   "metadata": {},
   "outputs": [],
   "source": [
    "#подсчет порядков РК\n",
    "def stepped(x, y, f, h):\n",
    "\n",
    "    f[0] = func(x, y)\n",
    "    for i in range(1, b.size):\n",
    "        f[i] = (func(x+c[i-1]*h, y + h*sum(f[j]*tri_a[i*(i-1)//2+j] for j in range(i) ) ))\n",
    "\n",
    "    return y+h *np.dot(b, f)"
   ]
  },
  {
   "cell_type": "code",
   "execution_count": 11,
   "metadata": {},
   "outputs": [],
   "source": [
    "def calc(h, Number_of_points, end, calc_err = False):\n",
    "    x_res = np.linspace(x_0, end, num = Number_of_points, endpoint = True)\n",
    "    y_res = np.empty(Number_of_points)\n",
    "\n",
    "    if(calc_err):\n",
    "        y_prob_res = np.empty(Number_of_points)\n",
    "\n",
    "    if(h > 0):\n",
    "        num = 1\n",
    "        y_res[0] = y_0\n",
    "        if(calc_err):\n",
    "            y_prob_res[0] = y_0\n",
    "    else:\n",
    "        num = 1\n",
    "        y_res[Number_of_points-1] = y_0\n",
    "        if(calc_err):\n",
    "            y_prob_res[Number_of_points-1] = y_0\n",
    "\n",
    "    y = y_0\n",
    "    f = np.empty(b.size)\n",
    "\n",
    "    #Считаем ошибки\n",
    "    if(calc_err):\n",
    "        i = 0\n",
    "        error = 0\n",
    "\n",
    "    for x in np.arange(x_0, end, h):\n",
    "\n",
    "        if(calc_err and i == 0):\n",
    "            y_prob = stepped(x, y, f, 2*h)\n",
    "\n",
    "        y = stepped(x, y, f, h)\n",
    "\n",
    "        if(calc_err and i == 1):\n",
    "            error = max(error, abs(y_prob-y))\n",
    "\n",
    "        if(calc_err):\n",
    "            i = (i+1)%2\n",
    "\n",
    "        if(calc_err and abs(x+2*h - x_res[num]) < abs(h) ):\n",
    "            y_prob_res[num] = y_prob\n",
    "\n",
    "        if( abs(x+h - x_res[num]) < abs(h)/2 ):\n",
    "            y_res[num] = y\n",
    "            num += 1\n",
    "\n",
    "    if(calc_err):\n",
    "        return y_res, y_prob_res, error/(2**k-1)\n",
    "\n",
    "    return y_res"
   ]
  },
  {
   "cell_type": "markdown",
   "metadata": {},
   "source": [
    "##  Сделаем подсчет"
   ]
  },
  {
   "cell_type": "code",
   "execution_count": 18,
   "metadata": {},
   "outputs": [],
   "source": [
    "h = (x_lim[1]-x_lim[0])/20\n",
    "\n",
    "error = 2*eps\n",
    "\n",
    "while(error > eps):\n",
    "\n",
    "    if(x_lim[1] > x_0 and x_lim[0] < x_0):\n",
    "        num = round(N * (x_0 - x_lim[0]) / (x_lim[1]-x_lim[0]) )\n",
    "\n",
    "        y_1_h, y_1_2h, err1  = calc(h, N - num+1, x_lim[1], calc_err = True)\n",
    "        y_2_h, y_2_2h, err2  = calc(-h, num+1, x_lim[0], calc_err = True)\n",
    "\n",
    "        error = max(err1, err2)\n",
    "\n",
    "        y_h = np.concatenate([y_2_h[-1:0:-1], y_1_h])\n",
    "        y_2h = np.concatenate([y_2_2h[-1:0:-1], y_1_2h])\n",
    "\n",
    "    elif(abs(x_lim[1] - x_0) < h/2 ):\n",
    "        y_h, y_2h, error  = calc(-h, N, x_lim[0], calc_err = True)\n",
    "\n",
    "        y_h = np.flip(y_h)\n",
    "        y_2h = np.flip(y_2h)\n",
    "\n",
    "    elif(abs(x_lim[0] - x_0) < h/2 ):\n",
    "        y_h, y_2h, error  = calc(h, N, x_lim[1], calc_err = True)\n",
    "\n",
    "    h /= 2\n",
    "res = y_h"
   ]
  },
  {
   "cell_type": "markdown",
   "metadata": {},
   "source": [
    "## Выведем ответ"
   ]
  },
  {
   "cell_type": "code",
   "execution_count": 19,
   "metadata": {},
   "outputs": [
    {
     "data": {
      "text/html": [
       "<div>\n",
       "<style scoped>\n",
       "    .dataframe tbody tr th:only-of-type {\n",
       "        vertical-align: middle;\n",
       "    }\n",
       "\n",
       "    .dataframe tbody tr th {\n",
       "        vertical-align: top;\n",
       "    }\n",
       "\n",
       "    .dataframe thead th {\n",
       "        text-align: right;\n",
       "    }\n",
       "</style>\n",
       "<table border=\"1\" class=\"dataframe\">\n",
       "  <thead>\n",
       "    <tr style=\"text-align: right;\">\n",
       "      <th></th>\n",
       "      <th>Output</th>\n",
       "      <th>0</th>\n",
       "      <th>1</th>\n",
       "      <th>2</th>\n",
       "      <th>3</th>\n",
       "      <th>4</th>\n",
       "      <th>5</th>\n",
       "      <th>6</th>\n",
       "      <th>7</th>\n",
       "      <th>8</th>\n",
       "      <th>9</th>\n",
       "      <th>10</th>\n",
       "    </tr>\n",
       "  </thead>\n",
       "  <tbody>\n",
       "    <tr>\n",
       "      <th>0</th>\n",
       "      <td>точки x</td>\n",
       "      <td>1.0000000E+00</td>\n",
       "      <td>1.1000000E+00</td>\n",
       "      <td>1.2000000E+00</td>\n",
       "      <td>1.3000000E+00</td>\n",
       "      <td>1.4000000E+00</td>\n",
       "      <td>1.5000000E+00</td>\n",
       "      <td>1.6000000E+00</td>\n",
       "      <td>1.7000000E+00</td>\n",
       "      <td>1.8000000E+00</td>\n",
       "      <td>1.9000000E+00</td>\n",
       "      <td>2.0000000E+00</td>\n",
       "    </tr>\n",
       "    <tr>\n",
       "      <th>1</th>\n",
       "      <td>y_h шаг h</td>\n",
       "      <td>1.0000000E+00</td>\n",
       "      <td>1.1000000E+00</td>\n",
       "      <td>1.2000000E+00</td>\n",
       "      <td>1.3000000E+00</td>\n",
       "      <td>1.4000000E+00</td>\n",
       "      <td>1.5000000E+00</td>\n",
       "      <td>1.6000000E+00</td>\n",
       "      <td>1.7000000E+00</td>\n",
       "      <td>1.8000000E+00</td>\n",
       "      <td>1.9000000E+00</td>\n",
       "      <td>2.0000000E+00</td>\n",
       "    </tr>\n",
       "    <tr>\n",
       "      <th>2</th>\n",
       "      <td>y_2h шаг 2 h</td>\n",
       "      <td>1.0000000E+00</td>\n",
       "      <td>1.1000000E+00</td>\n",
       "      <td>1.2000000E+00</td>\n",
       "      <td>1.3000000E+00</td>\n",
       "      <td>1.4000000E+00</td>\n",
       "      <td>1.5000000E+00</td>\n",
       "      <td>1.6000000E+00</td>\n",
       "      <td>1.7000000E+00</td>\n",
       "      <td>1.8000000E+00</td>\n",
       "      <td>1.9000000E+00</td>\n",
       "      <td>2.0000000E+00</td>\n",
       "    </tr>\n",
       "  </tbody>\n",
       "</table>\n",
       "</div>"
      ],
      "text/plain": [
       "         Output              0              1              2              3  \\\n",
       "0       точки x  1.0000000E+00  1.1000000E+00  1.2000000E+00  1.3000000E+00   \n",
       "1     y_h шаг h  1.0000000E+00  1.1000000E+00  1.2000000E+00  1.3000000E+00   \n",
       "2  y_2h шаг 2 h  1.0000000E+00  1.1000000E+00  1.2000000E+00  1.3000000E+00   \n",
       "\n",
       "               4              5              6              7              8  \\\n",
       "0  1.4000000E+00  1.5000000E+00  1.6000000E+00  1.7000000E+00  1.8000000E+00   \n",
       "1  1.4000000E+00  1.5000000E+00  1.6000000E+00  1.7000000E+00  1.8000000E+00   \n",
       "2  1.4000000E+00  1.5000000E+00  1.6000000E+00  1.7000000E+00  1.8000000E+00   \n",
       "\n",
       "               9             10  \n",
       "0  1.9000000E+00  2.0000000E+00  \n",
       "1  1.9000000E+00  2.0000000E+00  \n",
       "2  1.9000000E+00  2.0000000E+00  "
      ]
     },
     "execution_count": 19,
     "metadata": {},
     "output_type": "execute_result"
    }
   ],
   "source": [
    "Diff = []\n",
    "for i in range(len(y_2h)):\n",
    "    Diff.append(abs(y_h[i]-y_2h[i]))\n",
    "diff = []\n",
    "for i in range(N):\n",
    "    diff.append('{:.6E}'.format(Diff[i]))\n",
    "\n",
    "Err = ['{:.12E}'.format(error)]\n",
    "\n",
    "fd = np.linspace(x_lim[0], x_lim[1], num = N, endpoint = True)\n",
    "data_x = []\n",
    "for i in range(N):\n",
    "    data_x.append('{:.7E}'.format(fd[i]))\n",
    "    \n",
    "data_yh = []\n",
    "for i in range(N):\n",
    "    data_yh.append('{:.7E}'.format(y_h[i]))\n",
    "    \n",
    "data_y2h = []\n",
    "for i in range(N):\n",
    "    data_y2h.append('{:.7E}'.format(y_2h[i]))\n",
    "    \n",
    "data_x2 = []\n",
    "data_x2 = data_x\n",
    "data_x2.extend(data_yh + data_y2h)\n",
    "data_x2 = np.array(data_x2)\n",
    "data_x2 = data_x2.reshape(3,11).T\n",
    "\n",
    "gj = pd.DataFrame(data_x2.T)\n",
    "gj.insert(0,'Output', ['точки x', 'y_h шаг h', 'y_2h шаг 2 h'], True)\n",
    "gj"
   ]
  },
  {
   "cell_type": "markdown",
   "metadata": {},
   "source": [
    "# Определим погрешность"
   ]
  },
  {
   "cell_type": "code",
   "execution_count": 20,
   "metadata": {},
   "outputs": [
    {
     "name": "stdout",
     "output_type": "stream",
     "text": [
      "Погрешность = 0.000000E+00\n"
     ]
    }
   ],
   "source": [
    "print('Погрешность = {:.6E}'.format(error))"
   ]
  },
  {
   "cell_type": "markdown",
   "metadata": {},
   "source": [
    "Погрешность получилась нулевой в виду возможностей питона, он не может вычислять точнее $10^{-16}$ порядка, ниже приведу пример с обоснованием, мы сложим 1 и $10^{-16}$ и получим 1"
   ]
  },
  {
   "cell_type": "code",
   "execution_count": 37,
   "metadata": {},
   "outputs": [
    {
     "name": "stdout",
     "output_type": "stream",
     "text": [
      "1 + 10^-15 =  1.000000000000001\n",
      "1 + 10^-16 =  1.0\n"
     ]
    }
   ],
   "source": [
    "print('1 + 10^-15 = ', 1 + 0.000000000000001) # 1 + 10^-15\n",
    "print('1 + 10^-16 = ', 1 + 0.0000000000000001) # 1 + 10^-16"
   ]
  },
  {
   "cell_type": "markdown",
   "metadata": {},
   "source": [
    "## Построим график"
   ]
  },
  {
   "cell_type": "code",
   "execution_count": 32,
   "metadata": {},
   "outputs": [
    {
     "data": {
      "image/png": "[encoded data removed]",
      "text/plain": [
       "<Figure size 720x432 with 1 Axes>"
      ]
     },
     "metadata": {
      "needs_background": "light"
     },
     "output_type": "display_data"
    }
   ],
   "source": [
    "fig, ax = plt.subplots(figsize=(10, 6))\n",
    "\n",
    "ax.plot(np.linspace(x_lim[0], x_lim[1], num = N, endpoint = True), res)\n",
    "\n",
    "ax.grid(which='major',color = 'k')\n",
    "\n",
    "ax.minorticks_on()\n",
    "\n",
    "ax.grid(which='minor',\n",
    "color = 'gray',\n",
    "linestyle = ':', linewidth = 0.5)\n",
    "ax.grid(which='major', linewidth = 0.5)\n",
    "\n",
    "plt.savefig('plot.png', dpi=400, quality=100)\n",
    "plt.show()"
   ]
  },
  {
   "cell_type": "code",
   "execution_count": null,
   "metadata": {},
   "outputs": [],
   "source": []
  }
 ],
 "metadata": {
  "kernelspec": {
   "display_name": "Python 3",
   "language": "python",
   "name": "python3"
  },
  "language_info": {
   "codemirror_mode": {
    "name": "ipython",
    "version": 3
   },
   "file_extension": ".py",
   "mimetype": "text/x-python",
   "name": "python",
   "nbconvert_exporter": "python",
   "pygments_lexer": "ipython3",
   "version": "3.8.2"
  }
 },
 "nbformat": 4,
 "nbformat_minor": 4
}
