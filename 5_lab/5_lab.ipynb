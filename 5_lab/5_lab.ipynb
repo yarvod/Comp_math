{
 "cells": [
  {
   "cell_type": "markdown",
   "metadata": {},
   "source": [
    "# Раздел 5. Уравнения с частными производными гиперболического типа.\n",
    "## Лабораторная рабода №5. Методы решения уравнения переноса. \n",
    "### Вариант 3, задание 9.\n",
    "_Яромир Водзяновский_"
   ]
  },
  {
   "cell_type": "markdown",
   "metadata": {},
   "source": [
    "## Аналитическое решение \n",
    "Дифференциальная задача:\n",
    "$$ \\frac{\\partial u}{\\partial t} - 4\\frac{\\partial u}{\\partial x} = x; \\;\\;\\; 0 < t \\leq 1,\\; 0 \\leq x \\leq 1 $$\n",
    "$$u(x,0) = \\sin{x} - 0.125x^2; \\;\\; u(1,t) = \\sin{1+4t} - 0.125$$\n",
    "\n",
    "Аналитическое решение:\n",
    "$$u(x,t) = \\sin{4t+x} - \\frac{x^2}{8}$$"
   ]
  },
  {
   "cell_type": "code",
   "execution_count": 5,
   "metadata": {},
   "outputs": [],
   "source": [
    "import numpy as np "
   ]
  },
  {
   "cell_type": "code",
   "execution_count": 6,
   "metadata": {},
   "outputs": [],
   "source": [
    "def anal(x,t):\n",
    "    return np.sin(4*t + x) - x**2 / 8"
   ]
  },
  {
   "cell_type": "code",
   "execution_count": null,
   "metadata": {},
   "outputs": [],
   "source": []
  },
  {
   "cell_type": "markdown",
   "metadata": {},
   "source": [
    "## Численное решение\n",
    "Разностная схема:\n",
    "$$D_h = \\left\\{ (x_l,t^n): x_l = hl, hL = 1, l = \\overline{0,L};\\; t^n = n\\tau, \\tau N=1,n = \\overline{0,N} \\right \\} $$\n",
    "\n",
    "$u_l^{n+1} = u_l^n + \\frac{2\\tau}{3h} \\left( 2u_{l+3}^n - 9u_{l+3}^n + 18u_{l+1}^n - 11u_l^n \\right) + \\frac{8\\tau^2}{h^2}  \\left( -u_{l+3}^n +4u_{l+3}^n -5u_{l+1}^n +2u_l^n  \\right) + \\frac{32\\tau^3}{3h^3} \\left(u_{l+3}^n -3u_{l+3}^n +3u_{l+1}^n -u_l^n  \\right) + \\tau x_l + 2\\tau^2, \\; l = \\overline{0,L-3}, n = \\overline{0,N-1}$\n",
    "\n",
    "$$u_l^0 = \\sin{x_l} - 0.125x_l^2, \\; l = \\overline{0,L}; \\;\\; u_L^n = \\sin{(1+4t^n)} -0.125,\\;n=\\overline{1,N}  $$\n",
    "\n",
    "$$u_L^n = ?,\\; n = \\overline{1,N}; \\;\\;\\; u_{L-2}^n =?,\\; n = \\overline{1,N}. $$\n"
   ]
  },
  {
   "cell_type": "code",
   "execution_count": null,
   "metadata": {},
   "outputs": [],
   "source": []
  }
 ],
 "metadata": {
  "kernelspec": {
   "display_name": "Python 3.9.2 64-bit",
   "name": "python392jvsc74a57bd0aee8b7b246df8f9039afb4144a1f6fd8d2ca17a180786b69acc140d282b71a49"
  },
  "language_info": {
   "codemirror_mode": {
    "name": "ipython",
    "version": 3
   },
   "file_extension": ".py",
   "mimetype": "text/x-python",
   "name": "python",
   "nbconvert_exporter": "python",
   "pygments_lexer": "ipython3",
   "version": "3.9.2"
  },
  "orig_nbformat": 2
 },
 "nbformat": 4,
 "nbformat_minor": 2
}